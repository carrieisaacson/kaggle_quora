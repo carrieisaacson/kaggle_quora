{
 "cells": [
  {
   "cell_type": "markdown",
   "metadata": {},
   "source": [
    "# Quora Insincere Questions Part 1: Exploratory Data Analysis.\n",
    "\n",
    "Digging into the [Quora Insincere Questions Classification](https://www.kaggle.com/c/quora-insincere-questions-classification) training data.\n",
    "\n",
    "In this first pass I'm simply familiarizing myself with the types of questions in the training set. I will test some intuition about features that are likely or unlikely to correlate with insincere questions, topics like Trump, Black Lives Matter and Feminism vs topics like python programming. I will also look for other features that might be engineered for inclusion in a TF-IDF Naive-Bayes model, and words / terms / topics that may not map well to the text embedding datasets provided for use. \n",
    "\n",
    "### Competition Notes\n",
    "\n",
    "From the competition description. Highlights mine:\n",
    "\n",
    "An insincere question is defined as a **question intended to make a statement** rather than look for helpful answers. Some characteristics that can signify that a question is insincere:\n",
    "\n",
    "Has a non-neutral tone\n",
    "Has an exaggerated tone to underscore a point about a group of people\n",
    "Is rhetorical and meant to imply a statement about a group of people\n",
    "Is disparaging or inflammatory\n",
    "Suggests a **discriminatory** idea against a protected class of people, or seeks confirmation of a stereotype\n",
    "Makes disparaging **attacks/insults** against a specific person or group of people\n",
    "Based on an outlandish premise about a group of people\n",
    "Disparages against a characteristic that is not fixable and not measurable\n",
    "Isn't grounded in reality\n",
    "Based on false information, or contains absurd assumptions\n",
    "Uses **sexual content** (incest, bestiality, pedophilia) for shock value, and not to seek genuine answers\n",
    "The training data includes the question that was asked, and whether it was identified as insincere (target = 1). \n",
    "\n",
    "**The ground-truth labels contain some amount of noise: they are not guaranteed to be perfect.**\n",
    "\n",
    "Note that the distribution of questions in the dataset should not be taken to be representative of the distribution of questions asked on Quora. This is, in part, because of the combination of sampling procedures and sanitization measures that have been applied to the final dataset."
   ]
  },
  {
   "cell_type": "code",
   "execution_count": 2,
   "metadata": {},
   "outputs": [],
   "source": [
    "import pandas as pd\n",
    "import numpy as np\n",
    "import matplotlib as plt\n",
    "import seaborn as sns\n",
    "import os\n",
    "import math\n",
    "pd.set_option('display.max_colwidth', -1)"
   ]
  },
  {
   "cell_type": "markdown",
   "metadata": {},
   "source": [
    "## Import Training Data"
   ]
  },
  {
   "cell_type": "code",
   "execution_count": 3,
   "metadata": {},
   "outputs": [],
   "source": [
    "# Select local path vs kaggle kernel\n",
    "path = os.getcwd()\n",
    "if 'data-projects/kaggle_quora/notebooks' in path:\n",
    "    data_dir = '../data/raw/'\n",
    "else:\n",
    "    data_dir = ''\n",
    "\n",
    "dat = pd.read_csv(data_dir +'train.csv')"
   ]
  },
  {
   "cell_type": "code",
   "execution_count": 4,
   "metadata": {},
   "outputs": [
    {
     "data": {
      "text/html": [
       "<div>\n",
       "<style scoped>\n",
       "    .dataframe tbody tr th:only-of-type {\n",
       "        vertical-align: middle;\n",
       "    }\n",
       "\n",
       "    .dataframe tbody tr th {\n",
       "        vertical-align: top;\n",
       "    }\n",
       "\n",
       "    .dataframe thead th {\n",
       "        text-align: right;\n",
       "    }\n",
       "</style>\n",
       "<table border=\"1\" class=\"dataframe\">\n",
       "  <thead>\n",
       "    <tr style=\"text-align: right;\">\n",
       "      <th></th>\n",
       "      <th>qid</th>\n",
       "      <th>question_text</th>\n",
       "      <th>target</th>\n",
       "    </tr>\n",
       "  </thead>\n",
       "  <tbody>\n",
       "    <tr>\n",
       "      <th>0</th>\n",
       "      <td>00002165364db923c7e6</td>\n",
       "      <td>How did Quebec nationalists see their province as a nation in the 1960s?</td>\n",
       "      <td>0</td>\n",
       "    </tr>\n",
       "    <tr>\n",
       "      <th>1</th>\n",
       "      <td>000032939017120e6e44</td>\n",
       "      <td>Do you have an adopted dog, how would you encourage people to adopt and not shop?</td>\n",
       "      <td>0</td>\n",
       "    </tr>\n",
       "    <tr>\n",
       "      <th>2</th>\n",
       "      <td>0000412ca6e4628ce2cf</td>\n",
       "      <td>Why does velocity affect time? Does velocity affect space geometry?</td>\n",
       "      <td>0</td>\n",
       "    </tr>\n",
       "    <tr>\n",
       "      <th>3</th>\n",
       "      <td>000042bf85aa498cd78e</td>\n",
       "      <td>How did Otto von Guericke used the Magdeburg hemispheres?</td>\n",
       "      <td>0</td>\n",
       "    </tr>\n",
       "    <tr>\n",
       "      <th>4</th>\n",
       "      <td>0000455dfa3e01eae3af</td>\n",
       "      <td>Can I convert montra helicon D to a mountain bike by just changing the tyres?</td>\n",
       "      <td>0</td>\n",
       "    </tr>\n",
       "  </tbody>\n",
       "</table>\n",
       "</div>"
      ],
      "text/plain": [
       "                    qid  \\\n",
       "0  00002165364db923c7e6   \n",
       "1  000032939017120e6e44   \n",
       "2  0000412ca6e4628ce2cf   \n",
       "3  000042bf85aa498cd78e   \n",
       "4  0000455dfa3e01eae3af   \n",
       "\n",
       "                                                                       question_text  \\\n",
       "0  How did Quebec nationalists see their province as a nation in the 1960s?            \n",
       "1  Do you have an adopted dog, how would you encourage people to adopt and not shop?   \n",
       "2  Why does velocity affect time? Does velocity affect space geometry?                 \n",
       "3  How did Otto von Guericke used the Magdeburg hemispheres?                           \n",
       "4  Can I convert montra helicon D to a mountain bike by just changing the tyres?       \n",
       "\n",
       "   target  \n",
       "0  0       \n",
       "1  0       \n",
       "2  0       \n",
       "3  0       \n",
       "4  0       "
      ]
     },
     "execution_count": 4,
     "metadata": {},
     "output_type": "execute_result"
    }
   ],
   "source": [
    "dat.head()"
   ]
  },
  {
   "cell_type": "code",
   "execution_count": 5,
   "metadata": {},
   "outputs": [
    {
     "data": {
      "text/plain": [
       "(1306122, 3)"
      ]
     },
     "execution_count": 5,
     "metadata": {},
     "output_type": "execute_result"
    }
   ],
   "source": [
    "dat.shape"
   ]
  },
  {
   "cell_type": "markdown",
   "metadata": {},
   "source": [
    "## Getting a feel for insincere vs sincere questions"
   ]
  },
  {
   "cell_type": "markdown",
   "metadata": {},
   "source": [
    "First lets take a look at the full text for a sample of \"sincere\" questions. They are shorter than I expected. Spelling is fairly good, grammer is a little spottier. Not an overabundance of typos."
   ]
  },
  {
   "cell_type": "code",
   "execution_count": 6,
   "metadata": {},
   "outputs": [
    {
     "name": "stdout",
     "output_type": "stream",
     "text": [
      "Working abroad as graphic designer, which country would you recommend?\n",
      "What were the literary devices used in the book \"Frozen\" by Bill Scollon?\n",
      "What if soldiers did not participate in war?\n",
      "What would you do if your best friend told you that you are a horrible person and do not want to see you again?\n",
      "Have you made any fantasy type films?\n",
      "My 6 year old daughter suffers from severe androphobia, how can I help her?\n",
      "How much time does it normally take between learning Android development without any relevant skills and prior coding experience, and publishing your first proper app?\n",
      "What is the best way to get 1M comment on facebook post with the post like this https://www.facebook.com/thebananasmile/posts/2055051361445487?\n",
      "What is it like to see a wonderful moment to see the retirement age of the 3 Khans so near?\n",
      "Which are some interesting physics or biology topics to research on?\n"
     ]
    }
   ],
   "source": [
    "# Sincere questions\n",
    "for q in dat['question_text'][dat['target'] == 0].sample(10):\n",
    "    print(q)"
   ]
  },
  {
   "cell_type": "markdown",
   "metadata": {},
   "source": [
    "Initial impressions: \n",
    "Religious / cultural items:\n",
    "\"Why are Muslim beliefs tolerated and accepted, while Nazis beliefs are not, even when they are the same (e.g. belief in superiority over others, hate of homosexuals, disrespect for women)?\"\n",
    "\"If a Hindu woman is not better than a Muslim woman according to Islam, why do Muslims approach Hindu women for love and marriage?\"\n",
    "\"What will you do if you spot a Muslim having sex with a female dog?\"\n",
    "\n",
    "US Political and \"liberal media\" items:\n",
    "\"Is it possible for liberal agents in the FBI to abuse their authority while investigating Trump?\"\n",
    "\"How do the news brainwash people into liberalism (appropriate answers only)?\"\n",
    "\"Why is the Democrats' media suddenly miraculously concerned with the President's ethics and scandals? Not a peep during Obama's eight years.\"\n",
    "\"Is it ok for liberals to insult Trump supporters, but not ok for Trump supporters to insult liberals?\"\n",
    "\"Why do liberals, when they don't have any arguments in political discussion, call the opponent ''racist'', ''sexist'', or ''xenophobic''?\"\n",
    "\"Can Trump supporters read?\"\n",
    "\"When will dictator Donald Trump be tried at the Hague?\"\n",
    "\"Did liberals really believe that Trump's sons illegally shot and killed a Triceratops?\"\n",
    "\n",
    "Indian Political items:\n",
    "\"Does Prakash Raj think that the people of 20 states of India are fools to vote for Modi in assembly elections?\"\n",
    "\n",
    "Sexually \"shocking\" items:\n",
    "\"What does sex with a cousin feels like?\"\n",
    "\"Does anyone of your aunt tries to have sexual relationship with you?\"\n",
    "\n",
    "Transphobic / homophobic items:\n",
    "\"Why do homosexual people exist in nature, it doesn’t make sense biologically speaking?\"\n",
    "\"Does shaving buttocks make you gay?\"\n",
    "\n",
    "Misogynistic / anti-feminist items:\n",
    "\"Do women have emotions and feelings?\"\n",
    "\"Why do feminists think they're for equal rights? When egalitarianism is the real way to achieve this?\"\n",
    "\"Why do some bitches expect virgin guys as partners?\"\n",
    "\n",
    "Racist items:\n",
    "\"Why are blacks so uncivilized?\"\n",
    "\"If we removed all blacks from Obamacare, would it be more affordable to real Americans?\"\n",
    "\n",
    "Nazi / holocaust items:\n",
    "What happens when someone had diarrhea in the holocaust?\n",
    "What is the politically correct spelling: Ass-con-Nazi or Ask-Ken-Nazi?"
   ]
  },
  {
   "cell_type": "code",
   "execution_count": 7,
   "metadata": {},
   "outputs": [
    {
     "name": "stdout",
     "output_type": "stream",
     "text": [
      "Why do people act cheap asking to wave off service charge while paying the restaurant bill in India? Can they do the same in any other countries?\n",
      "Why don't women lift the toilet seat back up after they're done using the toilet?\n",
      "Why does the US buy so many goods from Indonesia, even though Indonesia is our enemy?\n",
      "How can the Democrats call themselves \"progressive\" when their economic ideas are based on mid-20th century socialist ideology? Shouldn't they be adapting their platform to the 21st century globalized economy?\n",
      "What is the best way to poison a cat which will make it die for sure?\n",
      "Why are terrorists all Muslims?\n",
      "Have you ever saw your son's penis erect?\n",
      "How can we save Vietnamese from being brainwashed?\n",
      "Do hijabi women realize they draw attention to themselves by looking like bald potato heads?\n",
      "Why didn’t Europeans master horse riding and use bows like the Asian tribes that brought monsters like Attila the Hun and Genghis Khan?\n"
     ]
    }
   ],
   "source": [
    "# Insincere questions\n",
    "for q in dat['question_text'][dat['target'] == 1].sample(10):\n",
    "    print(q)"
   ]
  },
  {
   "cell_type": "markdown",
   "metadata": {},
   "source": [
    "Casual observations:\n",
    "* Text appears longer\n",
    "* More misspellings and gramatical issues, but not as much as I would have expected\n",
    "* More strong language, eg. \"stupid\", \"idiot\", \"hate\", \"irrational\", \"disgusting\"...\n",
    "* More likely to start with \"Why\" rather than \"How\", \"What\" or \"Where\".\n",
    "* What do some \"sincere\" questions about Trump, liberals, Muslims and sex look like? I suspect those are going to be extremely tough to disambiguate."
   ]
  },
  {
   "cell_type": "code",
   "execution_count": 8,
   "metadata": {},
   "outputs": [
    {
     "data": {
      "text/html": [
       "<div>\n",
       "<style scoped>\n",
       "    .dataframe tbody tr th:only-of-type {\n",
       "        vertical-align: middle;\n",
       "    }\n",
       "\n",
       "    .dataframe tbody tr th {\n",
       "        vertical-align: top;\n",
       "    }\n",
       "\n",
       "    .dataframe thead th {\n",
       "        text-align: right;\n",
       "    }\n",
       "</style>\n",
       "<table border=\"1\" class=\"dataframe\">\n",
       "  <thead>\n",
       "    <tr style=\"text-align: right;\">\n",
       "      <th></th>\n",
       "      <th>sincere</th>\n",
       "      <th>insincere</th>\n",
       "    </tr>\n",
       "  </thead>\n",
       "  <tbody>\n",
       "    <tr>\n",
       "      <th>0</th>\n",
       "      <td>Will the truth survive Trump's practice of making it irrelevant?</td>\n",
       "      <td>Why won't the Democrats stop blaming Russia for Trump's win?</td>\n",
       "    </tr>\n",
       "    <tr>\n",
       "      <th>1</th>\n",
       "      <td>Are congressional republicans at all concerned that allowing Trump to remain in office will destroy the party as well as democracy itself?</td>\n",
       "      <td>Do you hate Trump? I mean HATE Trump like I do?</td>\n",
       "    </tr>\n",
       "    <tr>\n",
       "      <th>2</th>\n",
       "      <td>How many Presidents has the United States of America had, not including Donald Trump?</td>\n",
       "      <td>Donald Trump promised to have Hillary Clinton tried for her crimes against the United States. She is truthfully a criminal to enormous proportion. Why hasn't Donald Trump complied with his campaign promise?</td>\n",
       "    </tr>\n",
       "    <tr>\n",
       "      <th>3</th>\n",
       "      <td>Does Trump get the same classified briefings as the Intel agencies that are investigating him?</td>\n",
       "      <td>Is it just me who feels that astrology is a pseudoscience, because if it was well recognized and accepted Trump wouldn't be allowed to be a President, being he is a Gemini?</td>\n",
       "    </tr>\n",
       "    <tr>\n",
       "      <th>4</th>\n",
       "      <td>Barack Obama spent a lot of time in Asia, as part of his so-called 'pivot' to Asia. Is Trump planning to continue on that path? What can Trump offer Asia?</td>\n",
       "      <td>If CNN published a completely fabricated story that compliments and praises Donald Trump, would his ego allow him to call them out for publishing a fake news article?</td>\n",
       "    </tr>\n",
       "    <tr>\n",
       "      <th>5</th>\n",
       "      <td>Does US Code 227 hold any weight in court regarding Donald Trump's recent attacks on NFL players?</td>\n",
       "      <td>Did Donald Trump fu*k a 13 yr old child?</td>\n",
       "    </tr>\n",
       "    <tr>\n",
       "      <th>6</th>\n",
       "      <td>Does Mr. Trump know the difference between one \"mass shooting\" and another (his 'tweets' on the latest one seems to indicate otherwise)?</td>\n",
       "      <td>What would be the best and last option for President Donald Trump and his legal team, to stop Stormy Daniels from mocking the USA presidency: When we consider her theatrics like \"Make America Horny Again Tour\"?</td>\n",
       "    </tr>\n",
       "    <tr>\n",
       "      <th>7</th>\n",
       "      <td>Who is more unpatriotic Trump for dodging the draft six times or NFL players for taking a knee during national anthem?</td>\n",
       "      <td>Do liberals at least admire Trump’s confidence and optimism? He knew from the beginning that he’d win.</td>\n",
       "    </tr>\n",
       "    <tr>\n",
       "      <th>8</th>\n",
       "      <td>What does it say about a person who unfriends you on Facebook because you don't like Trump?</td>\n",
       "      <td>Donald Trump wants to imprison people who don't agree with him. Can people wake up and realize he's a dictator?</td>\n",
       "    </tr>\n",
       "    <tr>\n",
       "      <th>9</th>\n",
       "      <td>If Donald Trump is impeached and indicted, is it likely that Mike Pence would also be implicated?</td>\n",
       "      <td>Jason Aldean publicly called out Trump and look what happened at one of his concerts. Comedians are scared to joke about Trump and now even protesting is wrong, if he says so. What's next?</td>\n",
       "    </tr>\n",
       "  </tbody>\n",
       "</table>\n",
       "</div>"
      ],
      "text/plain": [
       "                                                                                                                                                      sincere  \\\n",
       "0  Will the truth survive Trump's practice of making it irrelevant?                                                                                             \n",
       "1  Are congressional republicans at all concerned that allowing Trump to remain in office will destroy the party as well as democracy itself?                   \n",
       "2  How many Presidents has the United States of America had, not including Donald Trump?                                                                        \n",
       "3  Does Trump get the same classified briefings as the Intel agencies that are investigating him?                                                               \n",
       "4  Barack Obama spent a lot of time in Asia, as part of his so-called 'pivot' to Asia. Is Trump planning to continue on that path? What can Trump offer Asia?   \n",
       "5  Does US Code 227 hold any weight in court regarding Donald Trump's recent attacks on NFL players?                                                            \n",
       "6  Does Mr. Trump know the difference between one \"mass shooting\" and another (his 'tweets' on the latest one seems to indicate otherwise)?                     \n",
       "7  Who is more unpatriotic Trump for dodging the draft six times or NFL players for taking a knee during national anthem?                                       \n",
       "8  What does it say about a person who unfriends you on Facebook because you don't like Trump?                                                                  \n",
       "9  If Donald Trump is impeached and indicted, is it likely that Mike Pence would also be implicated?                                                            \n",
       "\n",
       "                                                                                                                                                                                                            insincere  \n",
       "0  Why won't the Democrats stop blaming Russia for Trump's win?                                                                                                                                                        \n",
       "1  Do you hate Trump? I mean HATE Trump like I do?                                                                                                                                                                     \n",
       "2  Donald Trump promised to have Hillary Clinton tried for her crimes against the United States. She is truthfully a criminal to enormous proportion. Why hasn't Donald Trump complied with his campaign promise?      \n",
       "3  Is it just me who feels that astrology is a pseudoscience, because if it was well recognized and accepted Trump wouldn't be allowed to be a President, being he is a Gemini?                                        \n",
       "4  If CNN published a completely fabricated story that compliments and praises Donald Trump, would his ego allow him to call them out for publishing a fake news article?                                              \n",
       "5  Did Donald Trump fu*k a 13 yr old child?                                                                                                                                                                            \n",
       "6  What would be the best and last option for President Donald Trump and his legal team, to stop Stormy Daniels from mocking the USA presidency: When we consider her theatrics like \"Make America Horny Again Tour\"?  \n",
       "7  Do liberals at least admire Trump’s confidence and optimism? He knew from the beginning that he’d win.                                                                                                              \n",
       "8  Donald Trump wants to imprison people who don't agree with him. Can people wake up and realize he's a dictator?                                                                                                     \n",
       "9  Jason Aldean publicly called out Trump and look what happened at one of his concerts. Comedians are scared to joke about Trump and now even protesting is wrong, if he says so. What's next?                        "
      ]
     },
     "execution_count": 8,
     "metadata": {},
     "output_type": "execute_result"
    }
   ],
   "source": [
    "trump_questions = dat['question_text'].apply(lambda x: \"Trump\" in x)\n",
    "\n",
    "sincere_trump = dat[np.logical_and(trump_questions, dat['target'] == 0)]\n",
    "insincere_trump = dat[np.logical_and(trump_questions, dat['target'] == 1)].sample(10).reset_index()\n",
    "\n",
    "side_by_side_trump = pd.DataFrame({'sincere': sincere_trump['question_text'].sample(10).values,\n",
    "                                                           'insincere': insincere_trump['question_text'].sample(10).values})\n",
    "\n",
    "side_by_side_trump"
   ]
  },
  {
   "cell_type": "markdown",
   "metadata": {},
   "source": [
    "These were classed as \"sincere\":\n",
    "\n",
    "\"If everyone agrees that Trump is a total failure as president, why is he still president?\"\n",
    "\"Will Trump stage a terrorist attack to gain support for himself and save his administration?\"\n",
    "\"Why are Conservatives so lazy that they have put faith in Trump uplifting their lives?\"\n",
    "\n",
    "And this is \"insincere\":\n",
    "\"Why would President Trump push to move the embassy to Jerusalem? What possible benefit is there to the United States?\"\n",
    "\n",
    "So we can see this is an unevenly applied classification, presumably by human moderators who are doing their darndest. This will be difficult to classify, and I would say that Quora should probably have an iterative model-review-reclassify-remodel process to improve the quality of their tagging, particularly for high-value topics."
   ]
  },
  {
   "cell_type": "markdown",
   "metadata": {},
   "source": [
    "### Can we identify some frequently insincere topics by inspection or other research?"
   ]
  },
  {
   "cell_type": "markdown",
   "metadata": {},
   "source": [
    "#### US Political"
   ]
  },
  {
   "cell_type": "code",
   "execution_count": 9,
   "metadata": {},
   "outputs": [
    {
     "name": "stdout",
     "output_type": "stream",
     "text": [
      "6.2% insincere - overall (80810 / 1306122)\n",
      "70.5% insincere - liberal media (43 / 61)\n",
      "63.7% insincere - liberal (2756 / 4324)\n",
      "63.5% insincere - hillary (785 / 1236)\n",
      "61.1% insincere - pizzagate (11 / 18)\n",
      "43.5% insincere - trump (6145 / 14128)\n",
      "23.8% insincere - russia (1374 / 5778)\n",
      "21.4% insincere - spies (27 / 126)\n"
     ]
    }
   ],
   "source": [
    "topics = ['trump', 'hillary', 'liberal', 'russia', 'spies', 'pizzagate', 'liberal media']\n",
    "\n",
    "insincere_count = 0\n",
    "questions_count = 0\n",
    "\n",
    "def calculate_word_target_proportions(df, words, verbose=True):\n",
    "    print('{}% insincere - overall ({} / {})'.format(100*df.target.mean().round(3),\n",
    "                                                    df.target.sum(),\n",
    "                                                    len(df.target)))\n",
    "    props = []\n",
    "    insincere_count = 0\n",
    "    questions_count = 0\n",
    "    for word in words:\n",
    "        filter = df['question_text'].apply(lambda x: word in x.lower())\n",
    "        if filter.sum() > 0:\n",
    "            props.append([(100*df[filter].target.mean()).round(1), \n",
    "                                                            word,\n",
    "                                                           df[filter].target.sum(),\n",
    "                                                           len(df[filter].target)])\n",
    "            insincere_count += df[filter].target.sum()\n",
    "            questions_count += len(df[filter].target)\n",
    "\n",
    "    if verbose:\n",
    "        for prop in sorted(props, reverse=True):\n",
    "            print('{0}% insincere - {1} ({2} / {3})'.format(*prop))\n",
    "        \n",
    "    return props, insincere_count, questions_count\n",
    "        \n",
    "p, i, q = calculate_word_target_proportions(dat, topics)\n",
    "insincere_count = insincere_count + i\n",
    "questions_count = questions_count + q"
   ]
  },
  {
   "cell_type": "markdown",
   "metadata": {},
   "source": [
    "#### Race, Religion and Cultural Identities"
   ]
  },
  {
   "cell_type": "code",
   "execution_count": 10,
   "metadata": {},
   "outputs": [
    {
     "name": "stdout",
     "output_type": "stream",
     "text": [
      "6.2% insincere - overall (80810 / 1306122)\n",
      "69.5% insincere - black lives (73 / 105)\n",
      "59.0% insincere - muslim (4725 / 8009)\n",
      "37.7% insincere - black (3155 / 8376)\n"
     ]
    }
   ],
   "source": [
    "race_rel_culture = ['black', 'black lives','muslim']\n",
    "p, i, q = calculate_word_target_proportions(dat, race_rel_culture)\n",
    "insincere_count = insincere_count + i\n",
    "questions_count = questions_count + q"
   ]
  },
  {
   "cell_type": "markdown",
   "metadata": {},
   "source": [
    "#### Gender & Sexual Orientation"
   ]
  },
  {
   "cell_type": "code",
   "execution_count": 11,
   "metadata": {},
   "outputs": [
    {
     "name": "stdout",
     "output_type": "stream",
     "text": [
      "6.2% insincere - overall (80810 / 1306122)\n",
      "51.0% insincere - femin (981 / 1922)\n",
      "43.2% insincere - women (5323 / 12323)\n",
      "42.9% insincere - dyke (3 / 7)\n",
      "42.2% insincere - transgender (341 / 808)\n",
      "35.4% insincere - trans  (90 / 254)\n",
      "30.8% insincere - fag (8 / 26)\n",
      "29.6% insincere -  men (4352 / 14706)\n",
      "22.8% insincere - woman (1194 / 5246)\n",
      "21.6% insincere - queer (16 / 74)\n",
      "11.0% insincere -  man (5317 / 48404)\n"
     ]
    }
   ],
   "source": [
    "gender_sex = ['woman', ' man', 'women', 'trans ', ' men', 'dyke', 'fag', 'queer', 'femin', 'transgender']\n",
    "\n",
    "p, i, q = calculate_word_target_proportions(dat, gender_sex)\n",
    "insincere_count = insincere_count + i\n",
    "questions_count = questions_count + q"
   ]
  },
  {
   "cell_type": "markdown",
   "metadata": {},
   "source": [
    "#### Sex & Anatomy"
   ]
  },
  {
   "cell_type": "code",
   "execution_count": 12,
   "metadata": {},
   "outputs": [
    {
     "name": "stdout",
     "output_type": "stream",
     "text": [
      "6.2% insincere - overall (80810 / 1306122)\n",
      "77.1% insincere - cunt (54 / 70)\n",
      "69.7% insincere - asshole (168 / 241)\n",
      "61.3% insincere - whore (65 / 106)\n",
      "46.5% insincere - blowjob (53 / 114)\n",
      "45.9% insincere - wank (17 / 37)\n",
      "41.8% insincere - hooker (23 / 55)\n",
      "37.1% insincere - boob (109 / 294)\n",
      "33.3% insincere - buttplug (1 / 3)\n",
      "33.3% insincere - blow job (16 / 48)\n",
      "30.6% insincere - vagina (190 / 621)\n",
      "30.0% insincere - dildo (18 / 60)\n",
      "29.7% insincere - sex (4350 / 14664)\n",
      "27.3% insincere - clitoris (9 / 33)\n",
      "24.2% insincere - cock (149 / 616)\n",
      "13.6% insincere -  ass (1249 / 9165)\n",
      "13.0% insincere - butt (264 / 2026)\n",
      "10.5% insincere - pube (27 / 257)\n",
      "5.8% insincere - twat (7 / 120)\n"
     ]
    }
   ],
   "source": [
    "sex_anatomy = ['sex', 'boob', 'butt', ' ass', 'asshole', 'bollok', 'blow job', 'blowjob', 'bugger'\n",
    "              'boner', 'buttplug', 'dildo', 'clitoris', 'cock', 'cunt', 'twat', 'pube', 'vagina', \n",
    "               'wank', 'whore', 'hooker']\n",
    "\n",
    "p, i, q = calculate_word_target_proportions(dat, sex_anatomy)\n",
    "insincere_count = insincere_count + i\n",
    "questions_count = questions_count + q"
   ]
  },
  {
   "cell_type": "markdown",
   "metadata": {},
   "source": [
    "#### Words associated with bullying / trolling / insults"
   ]
  },
  {
   "cell_type": "markdown",
   "metadata": {},
   "source": [
    "Taisei Nitta, Fumito Masui, Michal Ptaszynski, Yasutomo Kimura, Rafal Rzepka, and Kenji Araki. 2013. Detecting\n",
    "cyberbullying entries on informal school websites based on category relevance maximization. In IJCNLP,\n",
    "pages 579–586.\n",
    "\n",
    "Raisi, et al (2016)"
   ]
  },
  {
   "cell_type": "code",
   "execution_count": 13,
   "metadata": {},
   "outputs": [
    {
     "name": "stdout",
     "output_type": "stream",
     "text": [
      "6.2% insincere - overall (80810 / 1306122)\n",
      "69.7% insincere - asshole (168 / 241)\n",
      "65.9% insincere - pussy (149 / 226)\n",
      "65.2% insincere - ignorant (313 / 480)\n",
      "64.9% insincere - idiot (347 / 535)\n",
      "64.3% insincere - nigger (27 / 42)\n",
      "54.5% insincere - dick (331 / 607)\n",
      "53.7% insincere - slut (95 / 177)\n",
      "51.0% insincere - stupid (1066 / 2091)\n",
      "46.2% insincere - fellatio (6 / 13)\n",
      "42.9% insincere - faggot (6 / 14)\n",
      "37.9% insincere - dumb (451 / 1189)\n",
      "37.8% insincere - hate (2670 / 7067)\n",
      "37.6% insincere - disgust (163 / 434)\n",
      "37.1% insincere - nazi (530 / 1427)\n",
      "36.1% insincere - jerk (99 / 274)\n",
      "34.5% insincere - trash (118 / 342)\n",
      "31.8% insincere - prick (14 / 44)\n",
      "31.8% insincere - pathetic (112 / 352)\n",
      "30.8% insincere - fag (8 / 26)\n",
      "30.4% insincere - communist (261 / 858)\n",
      "20.2% insincere - irrational (57 / 282)\n",
      "18.8% insincere - kill (2070 / 11009)\n",
      "18.7% insincere - worthless (32 / 171)\n",
      "18.4% insincere - annoying (115 / 624)\n",
      "9.9% insincere - lying (326 / 3302)\n",
      "9.2% insincere - gross (29 / 315)\n",
      "7.4% insincere - die (1100 / 14900)\n"
     ]
    }
   ],
   "source": [
    "trolling = ['disgust', 'hate', 'idiot', 'stupid', 'irrational', 'annoying', \n",
    "            'gross', 'slut', 'fellatio', 'die', 'kill', 'faggot', 'fag', 'pathetic', 'pussy',\n",
    "           'nigger', 'ignorant', 'lying', 'communist', 'trash', 'dumb', 'worthless',\n",
    "           'nazi', 'jerk', 'asshole', 'dick', 'prick']\n",
    "\n",
    "p, i, q = calculate_word_target_proportions(dat, trolling)\n",
    "insincere_count = insincere_count + i\n",
    "questions_count = questions_count + q"
   ]
  },
  {
   "cell_type": "markdown",
   "metadata": {},
   "source": [
    "#### Curses!"
   ]
  },
  {
   "cell_type": "code",
   "execution_count": 14,
   "metadata": {},
   "outputs": [
    {
     "name": "stdout",
     "output_type": "stream",
     "text": [
      "6.2% insincere - overall (80810 / 1306122)\n",
      "77.1% insincere - cunt (54 / 70)\n",
      "69.9% insincere - fuck (709 / 1014)\n",
      "69.7% insincere - asshole (168 / 241)\n",
      "59.1% insincere - bitch (146 / 247)\n",
      "54.8% insincere - bastard (51 / 93)\n",
      "50.0% insincere - damn (79 / 158)\n",
      "35.0% insincere - piss (78 / 223)\n",
      "29.7% insincere - poop (107 / 360)\n",
      "21.8% insincere - crap (119 / 547)\n",
      "10.9% insincere - turd (25 / 230)\n",
      "8.2% insincere - ass (3248 / 39664)\n",
      "0.0% insincere - bugger (0 / 6)\n"
     ]
    }
   ],
   "source": [
    "curse = ['asshole', 'fuck', 'cunt', 'ass', 'bastard', 'bitch', 'bugger', 'crap', 'damn', 'f u c k', 'feck'\n",
    "        'hell ', 'piss', 'poop', 'turd']\n",
    "\n",
    "p, i, q = calculate_word_target_proportions(dat, curse)\n",
    "insincere_count = insincere_count + i\n",
    "questions_count = questions_count + q"
   ]
  },
  {
   "cell_type": "markdown",
   "metadata": {},
   "source": [
    "Context is pretty important here. Danescu-Niculescu-Mizil's corpus is based on Stack Exchange comments, which are inherently non-poltical. I can see how \"You're welcome\" and \"Thanks a lot\" could be associated with false-sincerity or straight sarcasm on Quora.\n",
    "\n",
    "So I guess, in Quora's case, \"Welcome\" isn't very welcoming! :P"
   ]
  },
  {
   "cell_type": "markdown",
   "metadata": {},
   "source": [
    "#### Complaining About the Platform?"
   ]
  },
  {
   "cell_type": "code",
   "execution_count": 15,
   "metadata": {},
   "outputs": [
    {
     "name": "stdout",
     "output_type": "stream",
     "text": [
      "6.2% insincere - overall (80810 / 1306122)\n",
      "21.0% insincere - quora (3442 / 16380)\n"
     ]
    }
   ],
   "source": [
    "quora = ['quora']\n",
    "\n",
    "p, i, q = calculate_word_target_proportions(dat, quora)\n",
    "insincere_count = insincere_count + i\n",
    "questions_count = questions_count + q"
   ]
  },
  {
   "cell_type": "markdown",
   "metadata": {},
   "source": [
    "#### Conclusion"
   ]
  },
  {
   "cell_type": "code",
   "execution_count": 16,
   "metadata": {},
   "outputs": [
    {
     "name": "stdout",
     "output_type": "stream",
     "text": [
      "Targets: 62377 / Overall Targets: 80810. 77.2%\n",
      "Questions: 260736 / Overall Questions: 1306122. 20.0%\n"
     ]
    }
   ],
   "source": [
    "print('Targets: {} / Overall Targets: {}. {}%'.format(insincere_count, dat['target'].sum(),\n",
    "                                                      (100*insincere_count/dat['target'].sum()).round(1)))\n",
    "print('Questions: {} / Overall Questions: {}. {}%'.format(questions_count, len(dat['target']),\n",
    "                                                          round(100*questions_count/len(dat['target']),1)))"
   ]
  },
  {
   "cell_type": "markdown",
   "metadata": {},
   "source": [
    "There's double counting in here, I'd have to check how much, but these terms account for approximately 19% of questions but 78% of insincere questions.\n",
    "\n",
    "Answer: yes, very much so. References to Liberals and Hillary, the Holocaust and Muslims are flagged as insincere in well over 50% of occurances. References to Trump are insincere over 40% of the time, which is a lot given the base rate is only 6%. So these words along will be strong signals. But there are sincere questions about, say, Trump. An easy model would simply flag all questions about Liberals and Hillary as insincere, and possibly do quite well overall.\n",
    "\n",
    "What will be interesting is the nuance between sincere and popular questions on topics that are frequenly insincere. Consider modelling frequent topics with high target rates separately and ensembling.\n",
    "\n",
    "TODO: Cluster analysis / topic modelling for targets to see if any other themes can be identified."
   ]
  },
  {
   "cell_type": "markdown",
   "metadata": {},
   "source": [
    "### Words associated with politeness\n",
    "\n",
    "Hey, there's some research on identifying *politeness*! This is the opposite, perhaps useful as a feature for non-targets?\n",
    "http://www.cs.cornell.edu/~cristian/Politeness.html"
   ]
  },
  {
   "cell_type": "code",
   "execution_count": 17,
   "metadata": {},
   "outputs": [
    {
     "name": "stdout",
     "output_type": "stream",
     "text": [
      "6.2% insincere - overall (80810 / 1306122)\n",
      "21.9% insincere - welcome (71 / 324)\n",
      "13.6% insincere - thanks (59 / 435)\n",
      "12.0% insincere - please (255 / 2124)\n",
      "11.4% insincere - appreciate (61 / 537)\n",
      "7.5% insincere - thank you (21 / 279)\n",
      "6.7% insincere - awesome (22 / 327)\n",
      "4.1% insincere - share (174 / 4277)\n"
     ]
    }
   ],
   "source": [
    "politeness = ['thanks', 'thank you', 'appreciate', 'awesome', 'please', 'share', 'welcome']\n",
    "p, i, q = calculate_word_target_proportions(dat, politeness)"
   ]
  },
  {
   "cell_type": "markdown",
   "metadata": {},
   "source": [
    "### What about Internet Abbreviations?"
   ]
  },
  {
   "cell_type": "code",
   "execution_count": 18,
   "metadata": {},
   "outputs": [
    {
     "name": "stdout",
     "output_type": "stream",
     "text": [
      "6.2% insincere - overall (80810 / 1306122)\n",
      "100.0% insincere - smh (1 / 1)\n",
      "17.6% insincere - stfu (12 / 68)\n",
      "17.5% insincere - lol (41 / 234)\n",
      "15.6% insincere - omg (5 / 32)\n",
      "9.1% insincere - rolf (1 / 11)\n",
      "4.0% insincere - yolo (1 / 25)\n",
      "1.4% insincere - ikr (1 / 71)\n",
      "0.0% insincere - nvm (0 / 6)\n",
      "0.0% insincere - lmk (0 / 1)\n",
      "0.0% insincere - lmfao (0 / 1)\n"
     ]
    }
   ],
   "source": [
    "internet = ['lol', 'rolf', 'yolo', 'lmfao', 'stfu', 'omg', 'lmk', 'smh', 'nvm', 'ikr']\n",
    "p, i, q = calculate_word_target_proportions(dat, internet)"
   ]
  },
  {
   "cell_type": "markdown",
   "metadata": {},
   "source": [
    "Not very common and not very strong signals. Ok then!"
   ]
  },
  {
   "cell_type": "markdown",
   "metadata": {},
   "source": [
    "## Question Structure"
   ]
  },
  {
   "cell_type": "markdown",
   "metadata": {},
   "source": [
    "### Leading Why vs How / Which / What?"
   ]
  },
  {
   "cell_type": "code",
   "execution_count": 19,
   "metadata": {},
   "outputs": [],
   "source": [
    "dat['leading_word'] = dat['question_text'].apply(lambda x: x.split()[0].lower())"
   ]
  },
  {
   "cell_type": "code",
   "execution_count": 20,
   "metadata": {},
   "outputs": [
    {
     "data": {
      "text/html": [
       "<div>\n",
       "<style scoped>\n",
       "    .dataframe tbody tr th:only-of-type {\n",
       "        vertical-align: middle;\n",
       "    }\n",
       "\n",
       "    .dataframe tbody tr th {\n",
       "        vertical-align: top;\n",
       "    }\n",
       "\n",
       "    .dataframe thead th {\n",
       "        text-align: right;\n",
       "    }\n",
       "</style>\n",
       "<table border=\"1\" class=\"dataframe\">\n",
       "  <thead>\n",
       "    <tr style=\"text-align: right;\">\n",
       "      <th></th>\n",
       "      <th>percent_targets</th>\n",
       "      <th>percent_of_qs</th>\n",
       "      <th>count</th>\n",
       "    </tr>\n",
       "    <tr>\n",
       "      <th>leading_word</th>\n",
       "      <th></th>\n",
       "      <th></th>\n",
       "      <th></th>\n",
       "    </tr>\n",
       "  </thead>\n",
       "  <tbody>\n",
       "    <tr>\n",
       "      <th>why</th>\n",
       "      <td>0.225128</td>\n",
       "      <td>10.3</td>\n",
       "      <td>134621</td>\n",
       "    </tr>\n",
       "    <tr>\n",
       "      <th>are</th>\n",
       "      <td>0.146523</td>\n",
       "      <td>2.0</td>\n",
       "      <td>25839</td>\n",
       "    </tr>\n",
       "    <tr>\n",
       "      <th>do</th>\n",
       "      <td>0.133801</td>\n",
       "      <td>2.7</td>\n",
       "      <td>35523</td>\n",
       "    </tr>\n",
       "    <tr>\n",
       "      <th>if</th>\n",
       "      <td>0.104519</td>\n",
       "      <td>2.1</td>\n",
       "      <td>27641</td>\n",
       "    </tr>\n",
       "    <tr>\n",
       "      <th>is</th>\n",
       "      <td>0.068536</td>\n",
       "      <td>7.3</td>\n",
       "      <td>95191</td>\n",
       "    </tr>\n",
       "    <tr>\n",
       "      <th>does</th>\n",
       "      <td>0.061599</td>\n",
       "      <td>1.5</td>\n",
       "      <td>20179</td>\n",
       "    </tr>\n",
       "    <tr>\n",
       "      <th>i</th>\n",
       "      <td>0.059630</td>\n",
       "      <td>1.6</td>\n",
       "      <td>20560</td>\n",
       "    </tr>\n",
       "    <tr>\n",
       "      <th>who</th>\n",
       "      <td>0.034198</td>\n",
       "      <td>1.6</td>\n",
       "      <td>21054</td>\n",
       "    </tr>\n",
       "    <tr>\n",
       "      <th>can</th>\n",
       "      <td>0.029351</td>\n",
       "      <td>3.7</td>\n",
       "      <td>48482</td>\n",
       "    </tr>\n",
       "    <tr>\n",
       "      <th>how</th>\n",
       "      <td>0.026218</td>\n",
       "      <td>18.9</td>\n",
       "      <td>246468</td>\n",
       "    </tr>\n",
       "    <tr>\n",
       "      <th>where</th>\n",
       "      <td>0.018107</td>\n",
       "      <td>1.4</td>\n",
       "      <td>17949</td>\n",
       "    </tr>\n",
       "    <tr>\n",
       "      <th>what</th>\n",
       "      <td>0.012375</td>\n",
       "      <td>30.3</td>\n",
       "      <td>395226</td>\n",
       "    </tr>\n",
       "    <tr>\n",
       "      <th>which</th>\n",
       "      <td>0.009870</td>\n",
       "      <td>3.5</td>\n",
       "      <td>45187</td>\n",
       "    </tr>\n",
       "  </tbody>\n",
       "</table>\n",
       "</div>"
      ],
      "text/plain": [
       "              percent_targets  percent_of_qs   count\n",
       "leading_word                                        \n",
       "why           0.225128         10.3           134621\n",
       "are           0.146523         2.0            25839 \n",
       "do            0.133801         2.7            35523 \n",
       "if            0.104519         2.1            27641 \n",
       "is            0.068536         7.3            95191 \n",
       "does          0.061599         1.5            20179 \n",
       "i             0.059630         1.6            20560 \n",
       "who           0.034198         1.6            21054 \n",
       "can           0.029351         3.7            48482 \n",
       "how           0.026218         18.9           246468\n",
       "where         0.018107         1.4            17949 \n",
       "what          0.012375         30.3           395226\n",
       "which         0.009870         3.5            45187 "
      ]
     },
     "execution_count": 20,
     "metadata": {},
     "output_type": "execute_result"
    }
   ],
   "source": [
    "summary = dat.groupby('leading_word')['target'].agg(['mean', 'count']).sort_values(by='mean', ascending=False)\n",
    "summary['percent_of_qs'] = summary['count'].apply(lambda x: round(100*x/dat.shape[0],1))\n",
    "summary = summary.rename(columns={'mean': 'percent_targets'})\n",
    "summary.loc[summary['percent_of_qs'] > 1,['percent_targets', 'percent_of_qs', 'count']]"
   ]
  },
  {
   "cell_type": "markdown",
   "metadata": {},
   "source": [
    "Leading Whys are overwhelmingly far more likely to be insincere! \n",
    "I wonder linguistically what is going on there...\n",
    "\n",
    "Is it that \"why\" and (to a lesser extent) \"are\" lead questions confirmatory phrasing? In that you're trying to get someone to agree with an initial premise. \"Why are Xs into Z?\" or \"Are all Xs into Z\"?"
   ]
  },
  {
   "cell_type": "markdown",
   "metadata": {},
   "source": [
    "### Word & Character Count"
   ]
  },
  {
   "cell_type": "code",
   "execution_count": 21,
   "metadata": {},
   "outputs": [],
   "source": [
    "dat['char_count'] = dat['question_text'].apply(len)\n",
    "dat['word_count'] = dat['question_text'].apply(lambda x: len(x.split()))"
   ]
  },
  {
   "cell_type": "code",
   "execution_count": 22,
   "metadata": {},
   "outputs": [
    {
     "data": {
      "text/html": [
       "<div>\n",
       "<style scoped>\n",
       "    .dataframe tbody tr th:only-of-type {\n",
       "        vertical-align: middle;\n",
       "    }\n",
       "\n",
       "    .dataframe tbody tr th {\n",
       "        vertical-align: top;\n",
       "    }\n",
       "\n",
       "    .dataframe thead th {\n",
       "        text-align: right;\n",
       "    }\n",
       "</style>\n",
       "<table border=\"1\" class=\"dataframe\">\n",
       "  <thead>\n",
       "    <tr style=\"text-align: right;\">\n",
       "      <th></th>\n",
       "      <th>char_count</th>\n",
       "      <th>word_count</th>\n",
       "    </tr>\n",
       "    <tr>\n",
       "      <th>target</th>\n",
       "      <th></th>\n",
       "      <th></th>\n",
       "    </tr>\n",
       "  </thead>\n",
       "  <tbody>\n",
       "    <tr>\n",
       "      <th>0</th>\n",
       "      <td>68.872758</td>\n",
       "      <td>12.508533</td>\n",
       "    </tr>\n",
       "    <tr>\n",
       "      <th>1</th>\n",
       "      <td>98.064163</td>\n",
       "      <td>17.277812</td>\n",
       "    </tr>\n",
       "  </tbody>\n",
       "</table>\n",
       "</div>"
      ],
      "text/plain": [
       "        char_count  word_count\n",
       "target                        \n",
       "0       68.872758   12.508533 \n",
       "1       98.064163   17.277812 "
      ]
     },
     "execution_count": 22,
     "metadata": {},
     "output_type": "execute_result"
    }
   ],
   "source": [
    "dat[['char_count','word_count','target']].groupby('target').mean()"
   ]
  },
  {
   "cell_type": "code",
   "execution_count": 23,
   "metadata": {},
   "outputs": [
    {
     "data": {
      "text/plain": [
       "<matplotlib.axes._subplots.AxesSubplot at 0x1a186725f8>"
      ]
     },
     "execution_count": 23,
     "metadata": {},
     "output_type": "execute_result"
    },
    {
     "data": {
      "image/png": "[encoded data removed]",
      "text/plain": [
       "<Figure size 432x288 with 1 Axes>"
      ]
     },
     "metadata": {
      "needs_background": "light"
     },
     "output_type": "display_data"
    }
   ],
   "source": [
    "sns.boxplot(x=\"target\", y=\"char_count\", data=dat, palette=\"Set1\")"
   ]
  },
  {
   "cell_type": "code",
   "execution_count": 24,
   "metadata": {},
   "outputs": [
    {
     "data": {
      "text/plain": [
       "<matplotlib.axes._subplots.AxesSubplot at 0x1a2992db38>"
      ]
     },
     "execution_count": 24,
     "metadata": {},
     "output_type": "execute_result"
    },
    {
     "data": {
      "image/png": "[encoded data removed]",
      "text/plain": [
       "<Figure size 432x288 with 1 Axes>"
      ]
     },
     "metadata": {
      "needs_background": "light"
     },
     "output_type": "display_data"
    }
   ],
   "source": [
    "sns.boxplot(x=\"target\", y=\"word_count\", data=dat, palette=\"Set1\")"
   ]
  },
  {
   "cell_type": "markdown",
   "metadata": {},
   "source": [
    "### How many questions?\n",
    "\n",
    "Are people who ask many questions at once more likely to be insincere?"
   ]
  },
  {
   "cell_type": "code",
   "execution_count": 25,
   "metadata": {},
   "outputs": [],
   "source": [
    "dat['question_mark_count'] = dat['question_text'].apply(lambda x: x.count('?'))"
   ]
  },
  {
   "cell_type": "code",
   "execution_count": 26,
   "metadata": {},
   "outputs": [
    {
     "data": {
      "text/html": [
       "<div>\n",
       "<style scoped>\n",
       "    .dataframe tbody tr th:only-of-type {\n",
       "        vertical-align: middle;\n",
       "    }\n",
       "\n",
       "    .dataframe tbody tr th {\n",
       "        vertical-align: top;\n",
       "    }\n",
       "\n",
       "    .dataframe thead th {\n",
       "        text-align: right;\n",
       "    }\n",
       "</style>\n",
       "<table border=\"1\" class=\"dataframe\">\n",
       "  <thead>\n",
       "    <tr style=\"text-align: right;\">\n",
       "      <th></th>\n",
       "      <th>question_mark_count</th>\n",
       "    </tr>\n",
       "    <tr>\n",
       "      <th>target</th>\n",
       "      <th></th>\n",
       "    </tr>\n",
       "  </thead>\n",
       "  <tbody>\n",
       "    <tr>\n",
       "      <th>0</th>\n",
       "      <td>1.052672</td>\n",
       "    </tr>\n",
       "    <tr>\n",
       "      <th>1</th>\n",
       "      <td>1.130306</td>\n",
       "    </tr>\n",
       "  </tbody>\n",
       "</table>\n",
       "</div>"
      ],
      "text/plain": [
       "        question_mark_count\n",
       "target                     \n",
       "0       1.052672           \n",
       "1       1.130306           "
      ]
     },
     "execution_count": 26,
     "metadata": {},
     "output_type": "execute_result"
    }
   ],
   "source": [
    "dat[['question_mark_count','target']].groupby('target').mean()"
   ]
  },
  {
   "cell_type": "code",
   "execution_count": 27,
   "metadata": {},
   "outputs": [
    {
     "data": {
      "text/html": [
       "<div>\n",
       "<style scoped>\n",
       "    .dataframe tbody tr th:only-of-type {\n",
       "        vertical-align: middle;\n",
       "    }\n",
       "\n",
       "    .dataframe tbody tr th {\n",
       "        vertical-align: top;\n",
       "    }\n",
       "\n",
       "    .dataframe thead th {\n",
       "        text-align: right;\n",
       "    }\n",
       "</style>\n",
       "<table border=\"1\" class=\"dataframe\">\n",
       "  <thead>\n",
       "    <tr style=\"text-align: right;\">\n",
       "      <th></th>\n",
       "      <th>question_text</th>\n",
       "      <th>target</th>\n",
       "      <th>question_mark_count</th>\n",
       "    </tr>\n",
       "  </thead>\n",
       "  <tbody>\n",
       "    <tr>\n",
       "      <th>464675</th>\n",
       "      <td>How do I convince my mom to let me do my own hair? I’m 13, about to go into high school. I get straight A’s and I’m kind and nice. Why won’t she let me take care of myself?</td>\n",
       "      <td>0</td>\n",
       "      <td>2</td>\n",
       "    </tr>\n",
       "    <tr>\n",
       "      <th>424664</th>\n",
       "      <td>Should I think before or during writing? Why or why not?</td>\n",
       "      <td>0</td>\n",
       "      <td>2</td>\n",
       "    </tr>\n",
       "    <tr>\n",
       "      <th>1194979</th>\n",
       "      <td>Are teams getting better at football? Are the best teams around today better than the best teams of 50 years ago?</td>\n",
       "      <td>0</td>\n",
       "      <td>2</td>\n",
       "    </tr>\n",
       "    <tr>\n",
       "      <th>697018</th>\n",
       "      <td>Why didn’t the UK and France give the Mongolian Gypsies (Turks) a country on their own land? Why did they create the artificial state (Turkey) in Anatolia?</td>\n",
       "      <td>0</td>\n",
       "      <td>2</td>\n",
       "    </tr>\n",
       "    <tr>\n",
       "      <th>228714</th>\n",
       "      <td>How much energy is required to power a Star Trek phaser? Theoretically?</td>\n",
       "      <td>0</td>\n",
       "      <td>2</td>\n",
       "    </tr>\n",
       "    <tr>\n",
       "      <th>1162140</th>\n",
       "      <td>When did you reveal yourself as a psycopath and why? Did you have any bad repercutions for it?</td>\n",
       "      <td>0</td>\n",
       "      <td>2</td>\n",
       "    </tr>\n",
       "    <tr>\n",
       "      <th>413327</th>\n",
       "      <td>Should one join DU (any college) or St. Xaviers Kolkata for eco (hons) ? Also, how will my choice effect my civil services exam preparation?</td>\n",
       "      <td>0</td>\n",
       "      <td>2</td>\n",
       "    </tr>\n",
       "    <tr>\n",
       "      <th>277667</th>\n",
       "      <td>Whom should I choose between Capricorn or Taurus for Marriage? I am Capricorn?</td>\n",
       "      <td>0</td>\n",
       "      <td>2</td>\n",
       "    </tr>\n",
       "    <tr>\n",
       "      <th>1116044</th>\n",
       "      <td>Why are sanitary pads available to only 12% of women in India and taxed, aren't Indians ashamed of this and the fact that so many girls miss school because they are menstruating? Is the Hindu Nationalistic government responsible for this?</td>\n",
       "      <td>0</td>\n",
       "      <td>2</td>\n",
       "    </tr>\n",
       "    <tr>\n",
       "      <th>544768</th>\n",
       "      <td>What would happen if the Avengers tried to eradicate fire ants from the earth? Would they be able to do it?</td>\n",
       "      <td>0</td>\n",
       "      <td>2</td>\n",
       "    </tr>\n",
       "  </tbody>\n",
       "</table>\n",
       "</div>"
      ],
      "text/plain": [
       "                                                                                                                                                                                                                                          question_text  \\\n",
       "464675   How do I convince my mom to let me do my own hair? I’m 13, about to go into high school. I get straight A’s and I’m kind and nice. Why won’t she let me take care of myself?                                                                     \n",
       "424664   Should I think before or during writing? Why or why not?                                                                                                                                                                                         \n",
       "1194979  Are teams getting better at football? Are the best teams around today better than the best teams of 50 years ago?                                                                                                                                \n",
       "697018   Why didn’t the UK and France give the Mongolian Gypsies (Turks) a country on their own land? Why did they create the artificial state (Turkey) in Anatolia?                                                                                      \n",
       "228714   How much energy is required to power a Star Trek phaser? Theoretically?                                                                                                                                                                          \n",
       "1162140  When did you reveal yourself as a psycopath and why? Did you have any bad repercutions for it?                                                                                                                                                   \n",
       "413327   Should one join DU (any college) or St. Xaviers Kolkata for eco (hons) ? Also, how will my choice effect my civil services exam preparation?                                                                                                     \n",
       "277667   Whom should I choose between Capricorn or Taurus for Marriage? I am Capricorn?                                                                                                                                                                   \n",
       "1116044  Why are sanitary pads available to only 12% of women in India and taxed, aren't Indians ashamed of this and the fact that so many girls miss school because they are menstruating? Is the Hindu Nationalistic government responsible for this?   \n",
       "544768   What would happen if the Avengers tried to eradicate fire ants from the earth? Would they be able to do it?                                                                                                                                      \n",
       "\n",
       "         target  question_mark_count  \n",
       "464675   0       2                    \n",
       "424664   0       2                    \n",
       "1194979  0       2                    \n",
       "697018   0       2                    \n",
       "228714   0       2                    \n",
       "1162140  0       2                    \n",
       "413327   0       2                    \n",
       "277667   0       2                    \n",
       "1116044  0       2                    \n",
       "544768   0       2                    "
      ]
     },
     "execution_count": 27,
     "metadata": {},
     "output_type": "execute_result"
    }
   ],
   "source": [
    "dat.loc[dat.question_mark_count > 1, ['question_text', 'target', 'question_mark_count']].sample(10)"
   ]
  },
  {
   "cell_type": "markdown",
   "metadata": {},
   "source": [
    "Very small difference, I'm not terribly excited about this as a feature."
   ]
  },
  {
   "cell_type": "markdown",
   "metadata": {},
   "source": [
    "### Math Questions"
   ]
  },
  {
   "cell_type": "code",
   "execution_count": 35,
   "metadata": {},
   "outputs": [],
   "source": [
    "import re\n",
    "dat['math_symbols'] = dat['question_text'].apply(lambda x: len(re.findall(\"∩|∈|ℝ|∀|φ|θ|ψ|\\||√|=|//math|//code\",x))>1)"
   ]
  },
  {
   "cell_type": "code",
   "execution_count": 39,
   "metadata": {},
   "outputs": [
    {
     "data": {
      "text/html": [
       "<div>\n",
       "<style scoped>\n",
       "    .dataframe tbody tr th:only-of-type {\n",
       "        vertical-align: middle;\n",
       "    }\n",
       "\n",
       "    .dataframe tbody tr th {\n",
       "        vertical-align: top;\n",
       "    }\n",
       "\n",
       "    .dataframe thead th {\n",
       "        text-align: right;\n",
       "    }\n",
       "</style>\n",
       "<table border=\"1\" class=\"dataframe\">\n",
       "  <thead>\n",
       "    <tr style=\"text-align: right;\">\n",
       "      <th></th>\n",
       "      <th>question_text</th>\n",
       "      <th>math_symbols</th>\n",
       "      <th>target</th>\n",
       "    </tr>\n",
       "  </thead>\n",
       "  <tbody>\n",
       "    <tr>\n",
       "      <th>38634</th>\n",
       "      <td>As [math]x\\to\\infty\\displaystyle\\lim_{x=1}\\frac{d_{x}}{\\left(x+1\\right)^{2}}=1[/math] how can we prove [math]\\left[a_{x}&lt;b_{x}&lt;c_{x}&lt;d_{x}\\right]\\in X_{x}\\mapsto X_{x+1}[/math] and [math]\\left(d_{x}-1\\right)-\\left(a_{x}-1\\right)=3x [/math]?</td>\n",
       "      <td>True</td>\n",
       "      <td>1</td>\n",
       "    </tr>\n",
       "    <tr>\n",
       "      <th>327381</th>\n",
       "      <td>Which of the options listed below would most accurately fit [math](f ∘ g)(x),f(x) = \\frac{x}{x+4}, g(x) = \\frac{7}{x}[/math]? —A.[math](f ∘ g)(x) = \\frac{7x+28}{x}[/math] —B.[math](f ∘ g)(x) = \\frac{7x+4}{x}[/math] —C.[math](f ∘ g)(x) = \\frac{7}{7+4x}[/math] —D.[math](f ∘ g)(x) = \\frac{7x+28}{11}[/math]</td>\n",
       "      <td>True</td>\n",
       "      <td>1</td>\n",
       "    </tr>\n",
       "    <tr>\n",
       "      <th>163583</th>\n",
       "      <td>What is [math]\\overbrace{\\sum_{\\vartheta=8}^{\\infty} \\vec{\\frac{\\sum_{\\kappa=7}^{\\infty} \\overbrace{1x^0}^{\\text{Read carefully.}}-3x^{-1} \\div 1x^5+{\\sqrt[3]{2x^{-3}}}^{1x^0}+\\vec{\\vec{{3x^{-3}}^{1x^{-2}}}}}{\\sum_{\\dagger=9}^{\\infty} \\vec{\\boxed{\\boxed{3x^{-1}}+3x^1 \\times 1x^{-5}}}}} \\div \\sin(\\boxed{\\boxed{\\vec{3x^{-5}}}+\\sqrt[4]{2x^{-4}}+\\vec{2x^{-3}} \\div \\sin(\\sqrt[5]{\\int_{1x^5}^{2x^5} 2x^{-3} d\\varrho}) \\times \\vec{{\\underbrace{2x^1}_{\\text{Prove This.}}}^{3x^4} \\div \\sqrt[5]{2x^{-3}}+\\sum_{\\theta=8}^{\\infty} 1x^4}}) \\times {\\boxed{\\vec{\\sum_{\\nu=8}^{\\infty} \\sum_{4=6}^{\\infty} \\sum_{\\xi=9}^{\\infty} \\boxed{3x^1}-\\boxed{\\sqrt[3]{\\sqrt[3]{2x^{-2}}}}}}}^{1x^3}-\\cos({{\\tan(\\sum_{0=6}^{\\infty} \\tan(\\overbrace{\\frac{\\boxed{1x^1}-\\sqrt[3]{3x^{-2}}}{\\sum_{\\eta=10}^{\\infty} 1x^{-3} \\div 1x^1}}^{\\text{Molar Quantity.}}))}^{1x^3}}^{1x^{-4}})}^{\\text{Expanded.}}[/math]?</td>\n",
       "      <td>True</td>\n",
       "      <td>1</td>\n",
       "    </tr>\n",
       "    <tr>\n",
       "      <th>443216</th>\n",
       "      <td>What is [math]\\frac{\\int_{1x^5}^{3x^{-5}} \\tan(\\tan({\\boxed{\\int_{1x^0}^{1x^2} \\sum_{\\varpi=1}^{\\infty} \\int_{2x^{-3}}^{2x^2} \\sum_{\\alpha=7}^{\\infty} \\underbrace{\\sqrt[2]{1x^5}}_{\\text{Gauss's Law of Theoretical Probability.}} d\\tau dx}}^{1x^0})) d\\mu}{\\int_{2x^{-3}}^{1x^5} \\cos(\\int_{2x^2}^{1x^{-3}} \\frac{\\sqrt[2]{\\overbrace{\\underbrace{\\frac{3x^3+3x^5}{\\sqrt[3]{2x^{-3}}}}_{\\text{Gauss's Law of Theoretical Probability.}} \\times \\overbrace{\\tan(2x^0)}^{\\text{Gauss's Law of Theoretical Probability.}}-\\sum_{4=7}^{\\infty} \\boxed{3x^{-5}}}^{\\text{Inverse Function.}}}}{{\\boxed{\\int_{2x^2}^{2x^4} 3x^1 d9} \\div \\sum_{6=6}^{\\infty} \\sqrt[3]{2x^2}+\\sqrt[4]{\\sin(2x^0+3x^0)}}^{2x^{-4}}+\\boxed{\\frac{\\vec{\\boxed{\\sum_{\\gamma=10}^{\\infty} 1x^{-5}}}}{\\frac{\\sum_{\\iota=2}^{\\infty} 1x^{-5}-\\frac{3x^{-1}}{1x^{-4}}}{\\sin(\\tan(3x^{-2}))}}}} \\times \\boxed{\\sqrt[2]{{{{\\sqrt[5]{2x^5}}^{2x^{-1}}}^{2x^{-1}} \\div \\sum_{\\chi=6}^{\\infty} \\int_{1x^4}^{2x^{-4}} 3x^2 d\\vartheta+{2x^{-3}}^{2x^{-5}}}^{3x^{-4}}}} d\\mu) d\\iota}[/math]?</td>\n",
       "      <td>True</td>\n",
       "      <td>1</td>\n",
       "    </tr>\n",
       "    <tr>\n",
       "      <th>315732</th>\n",
       "      <td>[math]\\frac{\\text{d}x}{\\text{d}t}=Ax , {\\text{d}x} x^{-1}=A {\\text{d}t} [/math] , [math]{\\text{now taking transpose on both sides}}[/math] [math] \\int_{C}^{x} x^{-T}{\\text{d}x^{T}}=\\int_{0}^{t}A {\\text{d}t} {\\text{ solution becomes }} {\\text x =(e^{t^{T}A^{T}})^{T} C}, {\\text {but actual answer } x = (e^{At}) C, how?} [/math]</td>\n",
       "      <td>True</td>\n",
       "      <td>1</td>\n",
       "    </tr>\n",
       "    <tr>\n",
       "      <th>841016</th>\n",
       "      <td>How do I evaluate [math]\\displaystyle\\lim _{ h\\rightarrow \\infty }{ \\left( \\sum _{ i=1 }^{ i=h }{ \\frac { \\left( \\left( \\sum _{ j=1 }^{ j=i }{ \\frac { \\left( 2j+1 \\right) ! }{ \\prod _{ k=1 }^{ k=j }{ \\left( 2k-1 \\right) } } } \\right) +2 \\right) }{ { \\left( (i+1)! \\right)}^{ 2 } } } \\right) }[/math]?</td>\n",
       "      <td>True</td>\n",
       "      <td>1</td>\n",
       "    </tr>\n",
       "    <tr>\n",
       "      <th>451521</th>\n",
       "      <td>Does NO Leftist understand that THIS is WHY Donald Trump is so successful!? https://www.quora.com/Why-dont-people-understand-Donald-Trump?share=fe457a6f&amp;srid=p3dW4</td>\n",
       "      <td>True</td>\n",
       "      <td>1</td>\n",
       "    </tr>\n",
       "    <tr>\n",
       "      <th>528304</th>\n",
       "      <td>How would I solve [math]\\lim_ {θ \\to 0^+} \\dfrac{A(θ)}{B(θ)} [/math]from the attached photo? I’m not sure if I’m supposed to substitute A([math]θ[/math]) and B([math]θ[/math]) as the area of the triangle and the area between the chord and the arc.</td>\n",
       "      <td>True</td>\n",
       "      <td>1</td>\n",
       "    </tr>\n",
       "    <tr>\n",
       "      <th>1297971</th>\n",
       "      <td>Why do some people not possess the necessary IQ to write [math]\\sum \\limits_{n=0}^{\\infty}[/math] instead of [math]\\sum_{n=0}^{\\infty}[/math]?</td>\n",
       "      <td>True</td>\n",
       "      <td>1</td>\n",
       "    </tr>\n",
       "    <tr>\n",
       "      <th>397785</th>\n",
       "      <td>“&gt;&lt;img src=x onerror=prompt(1)&gt;</td>\n",
       "      <td>True</td>\n",
       "      <td>1</td>\n",
       "    </tr>\n",
       "  </tbody>\n",
       "</table>\n",
       "</div>"
      ],
      "text/plain": [
       "                                                                                                                                                                                                                                                                                                                                                                                                                                                                                                                                                                                                                                                                                                                                                                                                                                                                                                                                                                                                                                                     question_text  \\\n",
       "38634    As [math]x\\to\\infty\\displaystyle\\lim_{x=1}\\frac{d_{x}}{\\left(x+1\\right)^{2}}=1[/math] how can we prove [math]\\left[a_{x}<b_{x}<c_{x}<d_{x}\\right]\\in X_{x}\\mapsto X_{x+1}[/math] and [math]\\left(d_{x}-1\\right)-\\left(a_{x}-1\\right)=3x [/math]?                                                                                                                                                                                                                                                                                                                                                                                                                                                                                                                                                                                                                                                                                                                                                                                                            \n",
       "327381   Which of the options listed below would most accurately fit [math](f ∘ g)(x),f(x) = \\frac{x}{x+4}, g(x) = \\frac{7}{x}[/math]? —A.[math](f ∘ g)(x) = \\frac{7x+28}{x}[/math] —B.[math](f ∘ g)(x) = \\frac{7x+4}{x}[/math] —C.[math](f ∘ g)(x) = \\frac{7}{7+4x}[/math] —D.[math](f ∘ g)(x) = \\frac{7x+28}{11}[/math]                                                                                                                                                                                                                                                                                                                                                                                                                                                                                                                                                                                                                                                                                                                                            \n",
       "163583   What is [math]\\overbrace{\\sum_{\\vartheta=8}^{\\infty} \\vec{\\frac{\\sum_{\\kappa=7}^{\\infty} \\overbrace{1x^0}^{\\text{Read carefully.}}-3x^{-1} \\div 1x^5+{\\sqrt[3]{2x^{-3}}}^{1x^0}+\\vec{\\vec{{3x^{-3}}^{1x^{-2}}}}}{\\sum_{\\dagger=9}^{\\infty} \\vec{\\boxed{\\boxed{3x^{-1}}+3x^1 \\times 1x^{-5}}}}} \\div \\sin(\\boxed{\\boxed{\\vec{3x^{-5}}}+\\sqrt[4]{2x^{-4}}+\\vec{2x^{-3}} \\div \\sin(\\sqrt[5]{\\int_{1x^5}^{2x^5} 2x^{-3} d\\varrho}) \\times \\vec{{\\underbrace{2x^1}_{\\text{Prove This.}}}^{3x^4} \\div \\sqrt[5]{2x^{-3}}+\\sum_{\\theta=8}^{\\infty} 1x^4}}) \\times {\\boxed{\\vec{\\sum_{\\nu=8}^{\\infty} \\sum_{4=6}^{\\infty} \\sum_{\\xi=9}^{\\infty} \\boxed{3x^1}-\\boxed{\\sqrt[3]{\\sqrt[3]{2x^{-2}}}}}}}^{1x^3}-\\cos({{\\tan(\\sum_{0=6}^{\\infty} \\tan(\\overbrace{\\frac{\\boxed{1x^1}-\\sqrt[3]{3x^{-2}}}{\\sum_{\\eta=10}^{\\infty} 1x^{-3} \\div 1x^1}}^{\\text{Molar Quantity.}}))}^{1x^3}}^{1x^{-4}})}^{\\text{Expanded.}}[/math]?                                                                                                                                              \n",
       "443216   What is [math]\\frac{\\int_{1x^5}^{3x^{-5}} \\tan(\\tan({\\boxed{\\int_{1x^0}^{1x^2} \\sum_{\\varpi=1}^{\\infty} \\int_{2x^{-3}}^{2x^2} \\sum_{\\alpha=7}^{\\infty} \\underbrace{\\sqrt[2]{1x^5}}_{\\text{Gauss's Law of Theoretical Probability.}} d\\tau dx}}^{1x^0})) d\\mu}{\\int_{2x^{-3}}^{1x^5} \\cos(\\int_{2x^2}^{1x^{-3}} \\frac{\\sqrt[2]{\\overbrace{\\underbrace{\\frac{3x^3+3x^5}{\\sqrt[3]{2x^{-3}}}}_{\\text{Gauss's Law of Theoretical Probability.}} \\times \\overbrace{\\tan(2x^0)}^{\\text{Gauss's Law of Theoretical Probability.}}-\\sum_{4=7}^{\\infty} \\boxed{3x^{-5}}}^{\\text{Inverse Function.}}}}{{\\boxed{\\int_{2x^2}^{2x^4} 3x^1 d9} \\div \\sum_{6=6}^{\\infty} \\sqrt[3]{2x^2}+\\sqrt[4]{\\sin(2x^0+3x^0)}}^{2x^{-4}}+\\boxed{\\frac{\\vec{\\boxed{\\sum_{\\gamma=10}^{\\infty} 1x^{-5}}}}{\\frac{\\sum_{\\iota=2}^{\\infty} 1x^{-5}-\\frac{3x^{-1}}{1x^{-4}}}{\\sin(\\tan(3x^{-2}))}}}} \\times \\boxed{\\sqrt[2]{{{{\\sqrt[5]{2x^5}}^{2x^{-1}}}^{2x^{-1}} \\div \\sum_{\\chi=6}^{\\infty} \\int_{1x^4}^{2x^{-4}} 3x^2 d\\vartheta+{2x^{-3}}^{2x^{-5}}}^{3x^{-4}}}} d\\mu) d\\iota}[/math]?   \n",
       "315732   [math]\\frac{\\text{d}x}{\\text{d}t}=Ax , {\\text{d}x} x^{-1}=A {\\text{d}t} [/math] , [math]{\\text{now taking transpose on both sides}}[/math] [math] \\int_{C}^{x} x^{-T}{\\text{d}x^{T}}=\\int_{0}^{t}A {\\text{d}t} {\\text{ solution becomes }} {\\text x =(e^{t^{T}A^{T}})^{T} C}, {\\text {but actual answer } x = (e^{At}) C, how?} [/math]                                                                                                                                                                                                                                                                                                                                                                                                                                                                                                                                                                                                                                                                                                                     \n",
       "841016   How do I evaluate [math]\\displaystyle\\lim _{ h\\rightarrow \\infty }{ \\left( \\sum _{ i=1 }^{ i=h }{ \\frac { \\left( \\left( \\sum _{ j=1 }^{ j=i }{ \\frac { \\left( 2j+1 \\right) ! }{ \\prod _{ k=1 }^{ k=j }{ \\left( 2k-1 \\right) } } } \\right) +2 \\right) }{ { \\left( (i+1)! \\right)}^{ 2 } } } \\right) }[/math]?                                                                                                                                                                                                                                                                                                                                                                                                                                                                                                                                                                                                                                                                                                                                                \n",
       "451521   Does NO Leftist understand that THIS is WHY Donald Trump is so successful!? https://www.quora.com/Why-dont-people-understand-Donald-Trump?share=fe457a6f&srid=p3dW4                                                                                                                                                                                                                                                                                                                                                                                                                                                                                                                                                                                                                                                                                                                                                                                                                                                                                         \n",
       "528304   How would I solve [math]\\lim_ {θ \\to 0^+} \\dfrac{A(θ)}{B(θ)} [/math]from the attached photo? I’m not sure if I’m supposed to substitute A([math]θ[/math]) and B([math]θ[/math]) as the area of the triangle and the area between the chord and the arc.                                                                                                                                                                                                                                                                                                                                                                                                                                                                                                                                                                                                                                                                                                                                                                                                     \n",
       "1297971  Why do some people not possess the necessary IQ to write [math]\\sum \\limits_{n=0}^{\\infty}[/math] instead of [math]\\sum_{n=0}^{\\infty}[/math]?                                                                                                                                                                                                                                                                                                                                                                                                                                                                                                                                                                                                                                                                                                                                                                                                                                                                                                              \n",
       "397785   “><img src=x onerror=prompt(1)>                                                                                                                                                                                                                                                                                                                                                                                                                                                                                                                                                                                                                                                                                                                                                                                                                                                                                                                                                                                                                             \n",
       "\n",
       "         math_symbols  target  \n",
       "38634    True          1       \n",
       "327381   True          1       \n",
       "163583   True          1       \n",
       "443216   True          1       \n",
       "315732   True          1       \n",
       "841016   True          1       \n",
       "451521   True          1       \n",
       "528304   True          1       \n",
       "1297971  True          1       \n",
       "397785   True          1       "
      ]
     },
     "execution_count": 39,
     "metadata": {},
     "output_type": "execute_result"
    }
   ],
   "source": [
    "dat.loc[np.logical_and(dat.math_symbols,dat.target==1), ['question_text','math_symbols', 'target']].sample(10)"
   ]
  },
  {
   "cell_type": "code",
   "execution_count": 40,
   "metadata": {},
   "outputs": [
    {
     "data": {
      "text/html": [
       "<div>\n",
       "<style scoped>\n",
       "    .dataframe tbody tr th:only-of-type {\n",
       "        vertical-align: middle;\n",
       "    }\n",
       "\n",
       "    .dataframe tbody tr th {\n",
       "        vertical-align: top;\n",
       "    }\n",
       "\n",
       "    .dataframe thead th {\n",
       "        text-align: right;\n",
       "    }\n",
       "</style>\n",
       "<table border=\"1\" class=\"dataframe\">\n",
       "  <thead>\n",
       "    <tr style=\"text-align: right;\">\n",
       "      <th></th>\n",
       "      <th>question_text</th>\n",
       "      <th>math_symbols</th>\n",
       "      <th>target</th>\n",
       "    </tr>\n",
       "  </thead>\n",
       "  <tbody>\n",
       "    <tr>\n",
       "      <th>97715</th>\n",
       "      <td>Given the function f(x) =x^2-3bx+(c+2), determine the values of b and c such that f(1) =0 and f'(3) =0?</td>\n",
       "      <td>True</td>\n",
       "      <td>0</td>\n",
       "    </tr>\n",
       "    <tr>\n",
       "      <th>1121307</th>\n",
       "      <td>What will be the perimeter of a parallelogram ABCD when E is a point in AD and CE produced meets BA produced at point F and AE=4 cm,AF=8 cm and AB=12 cm?</td>\n",
       "      <td>True</td>\n",
       "      <td>0</td>\n",
       "    </tr>\n",
       "    <tr>\n",
       "      <th>949445</th>\n",
       "      <td>What is the meaning of θιοψʼ in Ancient Greek?</td>\n",
       "      <td>True</td>\n",
       "      <td>0</td>\n",
       "    </tr>\n",
       "    <tr>\n",
       "      <th>640750</th>\n",
       "      <td>What is the derivative of [math]f(x) = \\sum_{n=1}^{x} 1/n[/math]?</td>\n",
       "      <td>True</td>\n",
       "      <td>0</td>\n",
       "    </tr>\n",
       "    <tr>\n",
       "      <th>507422</th>\n",
       "      <td>How does this simultaneous equation question work? 2G + 3h= 1/ 5g - 2h= -26. I tried multiplying so that the numbers would cancel out but ended up with fractions?</td>\n",
       "      <td>True</td>\n",
       "      <td>0</td>\n",
       "    </tr>\n",
       "    <tr>\n",
       "      <th>1247286</th>\n",
       "      <td>Can I get student visa if I have IELTS score of L=7.5, R=6.5, W=7, S=7 for the course of community services in Sydney?</td>\n",
       "      <td>True</td>\n",
       "      <td>0</td>\n",
       "    </tr>\n",
       "    <tr>\n",
       "      <th>1138491</th>\n",
       "      <td>X + y = z and x * y = z. If x, y, and z are all positive numbers, what are the values of x, y, and z?</td>\n",
       "      <td>True</td>\n",
       "      <td>0</td>\n",
       "    </tr>\n",
       "    <tr>\n",
       "      <th>165301</th>\n",
       "      <td>Can someone identify this Indian folk song? Links are: https://www.youtube.com/watch?v=p5bqAKixgYA&amp;t=1335 https://www.youtube.com/watch?v=p5bqAKixgYA&amp;t=22m15s If neither time format works, the song is at 22:15.</td>\n",
       "      <td>True</td>\n",
       "      <td>0</td>\n",
       "    </tr>\n",
       "    <tr>\n",
       "      <th>238071</th>\n",
       "      <td>What does it mean, The formaction attribute is used with type=\"submit\" and type=\"image\"?</td>\n",
       "      <td>True</td>\n",
       "      <td>0</td>\n",
       "    </tr>\n",
       "    <tr>\n",
       "      <th>882605</th>\n",
       "      <td>What is the range of k if [math]f(x)=/frac{5-3x}{x^2+4x+k}[/math] is continuiable for [math]∀, x ∈ R[/math]?</td>\n",
       "      <td>True</td>\n",
       "      <td>0</td>\n",
       "    </tr>\n",
       "  </tbody>\n",
       "</table>\n",
       "</div>"
      ],
      "text/plain": [
       "                                                                                                                                                                                                              question_text  \\\n",
       "97715    Given the function f(x) =x^2-3bx+(c+2), determine the values of b and c such that f(1) =0 and f'(3) =0?                                                                                                              \n",
       "1121307  What will be the perimeter of a parallelogram ABCD when E is a point in AD and CE produced meets BA produced at point F and AE=4 cm,AF=8 cm and AB=12 cm?                                                            \n",
       "949445   What is the meaning of θιοψʼ in Ancient Greek?                                                                                                                                                                       \n",
       "640750   What is the derivative of [math]f(x) = \\sum_{n=1}^{x} 1/n[/math]?                                                                                                                                                    \n",
       "507422   How does this simultaneous equation question work? 2G + 3h= 1/ 5g - 2h= -26. I tried multiplying so that the numbers would cancel out but ended up with fractions?                                                   \n",
       "1247286  Can I get student visa if I have IELTS score of L=7.5, R=6.5, W=7, S=7 for the course of community services in Sydney?                                                                                               \n",
       "1138491  X + y = z and x * y = z. If x, y, and z are all positive numbers, what are the values of x, y, and z?                                                                                                                \n",
       "165301   Can someone identify this Indian folk song? Links are: https://www.youtube.com/watch?v=p5bqAKixgYA&t=1335 https://www.youtube.com/watch?v=p5bqAKixgYA&t=22m15s If neither time format works, the song is at 22:15.   \n",
       "238071   What does it mean, The formaction attribute is used with type=\"submit\" and type=\"image\"?                                                                                                                             \n",
       "882605   What is the range of k if [math]f(x)=/frac{5-3x}{x^2+4x+k}[/math] is continuiable for [math]∀, x ∈ R[/math]?                                                                                                         \n",
       "\n",
       "         math_symbols  target  \n",
       "97715    True          0       \n",
       "1121307  True          0       \n",
       "949445   True          0       \n",
       "640750   True          0       \n",
       "507422   True          0       \n",
       "1247286  True          0       \n",
       "1138491  True          0       \n",
       "165301   True          0       \n",
       "238071   True          0       \n",
       "882605   True          0       "
      ]
     },
     "execution_count": 40,
     "metadata": {},
     "output_type": "execute_result"
    }
   ],
   "source": [
    "dat.loc[np.logical_and(dat.math_symbols,dat.target==0), ['question_text','math_symbols', 'target']].sample(10)"
   ]
  },
  {
   "cell_type": "code",
   "execution_count": 42,
   "metadata": {},
   "outputs": [
    {
     "data": {
      "text/html": [
       "<div>\n",
       "<style scoped>\n",
       "    .dataframe tbody tr th:only-of-type {\n",
       "        vertical-align: middle;\n",
       "    }\n",
       "\n",
       "    .dataframe tbody tr th {\n",
       "        vertical-align: top;\n",
       "    }\n",
       "\n",
       "    .dataframe thead tr th {\n",
       "        text-align: left;\n",
       "    }\n",
       "\n",
       "    .dataframe thead tr:last-of-type th {\n",
       "        text-align: right;\n",
       "    }\n",
       "</style>\n",
       "<table border=\"1\" class=\"dataframe\">\n",
       "  <thead>\n",
       "    <tr>\n",
       "      <th></th>\n",
       "      <th colspan=\"3\" halign=\"left\">target</th>\n",
       "    </tr>\n",
       "    <tr>\n",
       "      <th></th>\n",
       "      <th>sum</th>\n",
       "      <th>count</th>\n",
       "      <th>mean</th>\n",
       "    </tr>\n",
       "    <tr>\n",
       "      <th>math_symbols</th>\n",
       "      <th></th>\n",
       "      <th></th>\n",
       "      <th></th>\n",
       "    </tr>\n",
       "  </thead>\n",
       "  <tbody>\n",
       "    <tr>\n",
       "      <th>False</th>\n",
       "      <td>80793</td>\n",
       "      <td>1305077</td>\n",
       "      <td>0.061907</td>\n",
       "    </tr>\n",
       "    <tr>\n",
       "      <th>True</th>\n",
       "      <td>17</td>\n",
       "      <td>1045</td>\n",
       "      <td>0.016268</td>\n",
       "    </tr>\n",
       "  </tbody>\n",
       "</table>\n",
       "</div>"
      ],
      "text/plain": [
       "             target                   \n",
       "                sum    count      mean\n",
       "math_symbols                          \n",
       "False         80793  1305077  0.061907\n",
       "True          17     1045     0.016268"
      ]
     },
     "execution_count": 42,
     "metadata": {},
     "output_type": "execute_result"
    }
   ],
   "source": [
    "dat[['math_symbols', 'target']].groupby('math_symbols').agg(['sum','count','mean'])"
   ]
  },
  {
   "cell_type": "markdown",
   "metadata": {},
   "source": [
    "This regex picks up very small number of non-math items. It seems that a few math formula questions are marked insincere. Are these math trolls? Oh, maybe they mark as insincere if the formula doesn't render?\n",
    "\n",
    "Either way, math questions tend to be sincere. But many of the preprocessing steps will strip and omit these characters. So these features should be added first."
   ]
  },
  {
   "cell_type": "markdown",
   "metadata": {},
   "source": [
    "### Web Links"
   ]
  },
  {
   "cell_type": "code",
   "execution_count": 48,
   "metadata": {},
   "outputs": [],
   "source": [
    "dat['web_links'] = dat['question_text'].apply(lambda x: len(re.findall(\"www/.|http:|https:\",x))>0)"
   ]
  },
  {
   "cell_type": "code",
   "execution_count": 49,
   "metadata": {},
   "outputs": [
    {
     "data": {
      "text/html": [
       "<div>\n",
       "<style scoped>\n",
       "    .dataframe tbody tr th:only-of-type {\n",
       "        vertical-align: middle;\n",
       "    }\n",
       "\n",
       "    .dataframe tbody tr th {\n",
       "        vertical-align: top;\n",
       "    }\n",
       "\n",
       "    .dataframe thead th {\n",
       "        text-align: right;\n",
       "    }\n",
       "</style>\n",
       "<table border=\"1\" class=\"dataframe\">\n",
       "  <thead>\n",
       "    <tr style=\"text-align: right;\">\n",
       "      <th></th>\n",
       "      <th>question_text</th>\n",
       "      <th>web_links</th>\n",
       "      <th>target</th>\n",
       "    </tr>\n",
       "  </thead>\n",
       "  <tbody>\n",
       "    <tr>\n",
       "      <th>303916</th>\n",
       "      <td>Is my blog post too long or too short? https://pennymattersblog.wordpress.com/</td>\n",
       "      <td>True</td>\n",
       "      <td>0</td>\n",
       "    </tr>\n",
       "    <tr>\n",
       "      <th>1246829</th>\n",
       "      <td>COPE WITH CANCER , a NGO is legitimate ?https://www.copewithcancer.org/hair-donation</td>\n",
       "      <td>True</td>\n",
       "      <td>0</td>\n",
       "    </tr>\n",
       "    <tr>\n",
       "      <th>9304</th>\n",
       "      <td>Laws in India: Is it legal to take Bhang [ http://en.wikipedia.org/wiki/Bhang ] to Bangalore which I legally purchased in Rajasthan?</td>\n",
       "      <td>True</td>\n",
       "      <td>0</td>\n",
       "    </tr>\n",
       "    <tr>\n",
       "      <th>263321</th>\n",
       "      <td>What kind of software used to create video like this \"http://y2u.be/nqlB8-rrRnQ\" ?</td>\n",
       "      <td>True</td>\n",
       "      <td>0</td>\n",
       "    </tr>\n",
       "    <tr>\n",
       "      <th>671762</th>\n",
       "      <td>Why is Twitter censoring tweets, when I specifically told it not to?See: https://support.twitter.com/articles/20169199</td>\n",
       "      <td>True</td>\n",
       "      <td>0</td>\n",
       "    </tr>\n",
       "    <tr>\n",
       "      <th>712652</th>\n",
       "      <td>I recently wrote a blog post on 12 things that every twenty something will experience https://breathingabstract.com/12-things-every-twenty-something-will-experience/ . Are there more experiences that are common for the majority of twenty somethings?</td>\n",
       "      <td>True</td>\n",
       "      <td>0</td>\n",
       "    </tr>\n",
       "    <tr>\n",
       "      <th>1084080</th>\n",
       "      <td>Can I earn money from my YouTube channel, https://www.youtube.com/edit?o=U&amp;video_id=ECOWjlFPQlM?</td>\n",
       "      <td>True</td>\n",
       "      <td>0</td>\n",
       "    </tr>\n",
       "    <tr>\n",
       "      <th>1078105</th>\n",
       "      <td>Why do you think this painting hasn't sold? https://www.dropbox.com/s/1p2qr0jzo8vq16x/Screenshot%202017-07-22%2011.53.48.png?</td>\n",
       "      <td>True</td>\n",
       "      <td>0</td>\n",
       "    </tr>\n",
       "    <tr>\n",
       "      <th>419203</th>\n",
       "      <td>Is this a trustable website for information on weapons used in the past by Thailand http://www.parathikarn.police.go.th/web/sp/gun/Bar%20.html?</td>\n",
       "      <td>True</td>\n",
       "      <td>0</td>\n",
       "    </tr>\n",
       "    <tr>\n",
       "      <th>696651</th>\n",
       "      <td>What did Casey Neistat say at 8:38 in a video? https://www.youtube.com/watch?v=84WIaK3bl_s&amp;ab_channel=CaseyNeistat. I'm not a native speaker just.</td>\n",
       "      <td>True</td>\n",
       "      <td>0</td>\n",
       "    </tr>\n",
       "  </tbody>\n",
       "</table>\n",
       "</div>"
      ],
      "text/plain": [
       "                                                                                                                                                                                                                                                     question_text  \\\n",
       "303916   Is my blog post too long or too short? https://pennymattersblog.wordpress.com/                                                                                                                                                                              \n",
       "1246829  COPE WITH CANCER , a NGO is legitimate ?https://www.copewithcancer.org/hair-donation                                                                                                                                                                        \n",
       "9304     Laws in India: Is it legal to take Bhang [ http://en.wikipedia.org/wiki/Bhang ] to Bangalore which I legally purchased in Rajasthan?                                                                                                                        \n",
       "263321   What kind of software used to create video like this \"http://y2u.be/nqlB8-rrRnQ\" ?                                                                                                                                                                          \n",
       "671762   Why is Twitter censoring tweets, when I specifically told it not to?See: https://support.twitter.com/articles/20169199                                                                                                                                      \n",
       "712652   I recently wrote a blog post on 12 things that every twenty something will experience https://breathingabstract.com/12-things-every-twenty-something-will-experience/ . Are there more experiences that are common for the majority of twenty somethings?   \n",
       "1084080  Can I earn money from my YouTube channel, https://www.youtube.com/edit?o=U&video_id=ECOWjlFPQlM?                                                                                                                                                            \n",
       "1078105  Why do you think this painting hasn't sold? https://www.dropbox.com/s/1p2qr0jzo8vq16x/Screenshot%202017-07-22%2011.53.48.png?                                                                                                                               \n",
       "419203   Is this a trustable website for information on weapons used in the past by Thailand http://www.parathikarn.police.go.th/web/sp/gun/Bar%20.html?                                                                                                             \n",
       "696651   What did Casey Neistat say at 8:38 in a video? https://www.youtube.com/watch?v=84WIaK3bl_s&ab_channel=CaseyNeistat. I'm not a native speaker just.                                                                                                          \n",
       "\n",
       "         web_links  target  \n",
       "303916   True       0       \n",
       "1246829  True       0       \n",
       "9304     True       0       \n",
       "263321   True       0       \n",
       "671762   True       0       \n",
       "712652   True       0       \n",
       "1084080  True       0       \n",
       "1078105  True       0       \n",
       "419203   True       0       \n",
       "696651   True       0       "
      ]
     },
     "execution_count": 49,
     "metadata": {},
     "output_type": "execute_result"
    }
   ],
   "source": [
    "dat.loc[np.logical_and(dat.web_links,dat.target==0), ['question_text','web_links', 'target']].sample(10)"
   ]
  },
  {
   "cell_type": "code",
   "execution_count": 46,
   "metadata": {},
   "outputs": [
    {
     "data": {
      "text/html": [
       "<div>\n",
       "<style scoped>\n",
       "    .dataframe tbody tr th:only-of-type {\n",
       "        vertical-align: middle;\n",
       "    }\n",
       "\n",
       "    .dataframe tbody tr th {\n",
       "        vertical-align: top;\n",
       "    }\n",
       "\n",
       "    .dataframe thead tr th {\n",
       "        text-align: left;\n",
       "    }\n",
       "\n",
       "    .dataframe thead tr:last-of-type th {\n",
       "        text-align: right;\n",
       "    }\n",
       "</style>\n",
       "<table border=\"1\" class=\"dataframe\">\n",
       "  <thead>\n",
       "    <tr>\n",
       "      <th></th>\n",
       "      <th colspan=\"3\" halign=\"left\">target</th>\n",
       "    </tr>\n",
       "    <tr>\n",
       "      <th></th>\n",
       "      <th>sum</th>\n",
       "      <th>count</th>\n",
       "      <th>mean</th>\n",
       "    </tr>\n",
       "    <tr>\n",
       "      <th>web_links</th>\n",
       "      <th></th>\n",
       "      <th></th>\n",
       "      <th></th>\n",
       "    </tr>\n",
       "  </thead>\n",
       "  <tbody>\n",
       "    <tr>\n",
       "      <th>False</th>\n",
       "      <td>80770</td>\n",
       "      <td>1305640</td>\n",
       "      <td>0.061862</td>\n",
       "    </tr>\n",
       "    <tr>\n",
       "      <th>True</th>\n",
       "      <td>40</td>\n",
       "      <td>482</td>\n",
       "      <td>0.082988</td>\n",
       "    </tr>\n",
       "  </tbody>\n",
       "</table>\n",
       "</div>"
      ],
      "text/plain": [
       "          target                   \n",
       "             sum    count      mean\n",
       "web_links                          \n",
       "False      80770  1305640  0.061862\n",
       "True       40     482      0.082988"
      ]
     },
     "execution_count": 46,
     "metadata": {},
     "output_type": "execute_result"
    }
   ],
   "source": [
    "dat[['web_links', 'target']].groupby('web_links').agg(['sum','count','mean'])"
   ]
  },
  {
   "cell_type": "markdown",
   "metadata": {},
   "source": [
    "Not very frequent. Looks slightly more likely to be insincere w/ a link."
   ]
  },
  {
   "cell_type": "markdown",
   "metadata": {},
   "source": [
    "### Programming Languages\n",
    "\n",
    "Quora has a healthy community of people discussing programming languages. My intuition is this group would see fewer trolls than politically oriented parts of Quora, but the languages may not be well recognized in word embeddings sourced from news articles.\n",
    "\n",
    "Using [Stack Overflow Developer Survey 2018](https://insights.stackoverflow.com/survey/2018/) as a guide, lets look into the appearance of major languages and frameworks.\n",
    "\n",
    "Note that some of these have other meanings, like Ruby, or might be hard to match, such as the letters \"R\" or \"C\"."
   ]
  },
  {
   "cell_type": "code",
   "execution_count": 71,
   "metadata": {},
   "outputs": [
    {
     "name": "stdout",
     "output_type": "stream",
     "text": [
      "6.2% insincere - overall (80810 / 1306122)\n",
      "39.4% insincere - bash (115 / 292)\n",
      "20.0% insincere - mongo (107 / 534)\n",
      "16.7% insincere - f# (2 / 12)\n",
      "7.4% insincere - redis (7 / 95)\n",
      "7.1% insincere - cordova (1 / 14)\n",
      "5.1% insincere - perl (51 / 991)\n",
      "4.0% insincere - rpi (19 / 474)\n",
      "3.7% insincere - scala (10 / 267)\n",
      "3.3% insincere - komodo (1 / 30)\n",
      "1.2% insincere - html (8 / 641)\n",
      "1.2% insincere - .net (4 / 324)\n",
      "1.0% insincere - ruby (2 / 210)\n",
      "0.7% insincere - c language (2 / 270)\n",
      "0.5% insincere - css (2 / 408)\n",
      "0.5% insincere - c++ (4 / 886)\n",
      "0.4% insincere - java (10 / 2742)\n",
      "0.4% insincere - hadoop (1 / 235)\n",
      "0.3% insincere - python (4 / 1190)\n",
      "0.3% insincere - linux (3 / 933)\n",
      "0.2% insincere - php (1 / 630)\n",
      "0.0% insincere - xamarin (0 / 64)\n",
      "0.0% insincere - visual studio (0 / 107)\n",
      "0.0% insincere - vim  (0 / 21)\n",
      "0.0% insincere - vba (0 / 60)\n",
      "0.0% insincere - typescript (0 / 21)\n",
      "0.0% insincere - tensorflow (0 / 74)\n",
      "0.0% insincere - sublime text (0 / 11)\n",
      "0.0% insincere - sql (0 / 650)\n",
      "0.0% insincere - rstudio (0 / 2)\n",
      "0.0% insincere - redshift (0 / 17)\n",
      "0.0% insincere - react.js (0 / 21)\n",
      "0.0% insincere - raspberry pi (0 / 111)\n",
      "0.0% insincere - pytorch (0 / 10)\n",
      "0.0% insincere - pycharm (0 / 12)\n",
      "0.0% insincere - node.js (0 / 139)\n",
      "0.0% insincere - netbeans (0 / 23)\n",
      "0.0% insincere - matlab (0 / 236)\n",
      "0.0% insincere - mariadb (0 / 3)\n",
      "0.0% insincere - kotlin (0 / 60)\n",
      "0.0% insincere - keras (0 / 19)\n",
      "0.0% insincere - jupyter (0 / 20)\n",
      "0.0% insincere - javascript (0 / 635)\n",
      "0.0% insincere - heroku (0 / 15)\n",
      "0.0% insincere - hbase (0 / 17)\n",
      "0.0% insincere - haskell (0 / 48)\n",
      "0.0% insincere - fortran (0 / 14)\n",
      "0.0% insincere - erlang (0 / 18)\n",
      "0.0% insincere - emacs (0 / 18)\n",
      "0.0% insincere - elasticsearch (0 / 18)\n",
      "0.0% insincere - dynamodb (0 / 10)\n",
      "0.0% insincere - drupal (0 / 33)\n",
      "0.0% insincere - django (0 / 150)\n",
      "0.0% insincere - coffeescript (0 / 4)\n",
      "0.0% insincere - cobol (0 / 13)\n",
      "0.0% insincere - clojure (0 / 14)\n",
      "0.0% insincere - cassandra (0 / 43)\n",
      "0.0% insincere - c# (0 / 268)\n",
      "0.0% insincere - c programming (0 / 167)\n",
      "0.0% insincere - c programing (0 / 2)\n",
      "0.0% insincere - bigquery (0 / 2)\n",
      "0.0% insincere - azure (0 / 120)\n",
      "0.0% insincere - arduino (0 / 216)\n",
      "0.0% insincere - apache hive (0 / 3)\n",
      "0.0% insincere - angular (0 / 516)\n",
      "0.0% insincere -  rds (0 / 11)\n"
     ]
    }
   ],
   "source": [
    "programming_languages_frameworks_dbs = ['javascript', 'html', 'css', 'sql', 'java', 'bash', 'python',\n",
    "                                        'c#', 'c++', 'c language', 'c programming', 'c programing', 'typescript', 'ruby', 'matlab', 'f#', 'clojure', \n",
    "                                        'haskell', 'erlang', 'coffeescript', 'cobol', 'fortran',\n",
    "                                        'vba', '.net', 'scala', 'perl', 'php', 'kotlin',\n",
    "                                        'node.js', 'react.js', 'angular', 'django', 'cordova', 'tensorflow', 'keras',\n",
    "                                        'xamarin', 'hadoop', 'pytorch', 'mongo', 'redis', 'elasticsearch', 'mariadb', 'azure',\n",
    "                                        'dynamodb', ' rds', 'redshift', 'cassandra', 'apache hive', 'bigquery', 'hbase',\n",
    "                                        'linux', 'raspberry pi', 'rpi ', 'arduino', 'heroku', 'drupal', \n",
    "                                        'visual studio', 'sublime text', 'rstudio', 'jupyter', 'pycharm', 'netbeans',\n",
    "                                       'emacs', 'vim ', 'komodo']\n",
    "\n",
    "p, i, q = calculate_word_target_proportions(dat, programming_languages_frameworks_dbs)"
   ]
  },
  {
   "cell_type": "code",
   "execution_count": 78,
   "metadata": {},
   "outputs": [
    {
     "name": "stdout",
     "output_type": "stream",
     "text": [
      "This word set covers 354 insincere / 15214 questions (2.33%), representing 1.16% of training set\n"
     ]
    }
   ],
   "source": [
    "print(\"This word set covers {} insincere / {} questions ({}%), representing {}% of training set\".format(\n",
    "    i,\n",
    "    q,\n",
    "    round(100*i/q,2),\n",
    "    round(100*q/dat.shape[0],2)))"
   ]
  },
  {
   "cell_type": "code",
   "execution_count": 69,
   "metadata": {},
   "outputs": [
    {
     "data": {
      "text/plain": [
       "93320      What are the contents of r and statistics to restart a career?                                                                                              \n",
       "175457     Let's say you wanted to do a statistical test to calculate the r value for two groups (male/female) and their use of gym equipment (upper body/lower body).?\n",
       "688273     How many states r there in India?                                                                                                                           \n",
       "1101788    If p, q r are electro negativity, ionization energy and electron affinity respectively the r=2p-q. is this statement correct? If yes how do you prove it?   \n",
       "Name: question_text, dtype: object"
      ]
     },
     "execution_count": 69,
     "metadata": {},
     "output_type": "execute_result"
    }
   ],
   "source": [
    "# R is almost always a slang version of \"are\". This needs to be fixed in pre-processing, \n",
    "# it doesn't seem as though there are enough obvious R statistics questions to worry about it. \n",
    "# This seems plausible given how few matlab and even python questions there are.\n",
    "dat.question_text[dat.question_text.apply(lambda x: ' r ' in x and 'stat' in x)]"
   ]
  },
  {
   "cell_type": "code",
   "execution_count": 67,
   "metadata": {},
   "outputs": [
    {
     "data": {
      "text/plain": [
       "838095     Why do we use include in c programme?                                                                                                                                                                                                           \n",
       "1193588    How can modern people survive so long without vitamin c compared to sailors who died of scurvy?                                                                                                                                                 \n",
       "13399      Why we have to learn c language? Why computer can't understand English?                                                                                                                                                                         \n",
       "778426     What is the speed in terms of c that a spacecraft need to reach in order to travel to Alpha Centauri in just 1 second from the point of view of the moving astronaut?                                                                           \n",
       "714885     What is the value of c and d if {x: -5<x<3} is the solution set of x^2 + cx < d?                                                                                                                                                                \n",
       "1306117    What other technical skills do you need as a computer science undergrad other than c and c++?                                                                                                                                                   \n",
       "609516     How do I wire a USB mini b port to a USB c port?                                                                                                                                                                                                \n",
       "133029     I'm pretty young and I c and see fine lines on my forehead? Any things I can do now so I still look young later on?                                                                                                                             \n",
       "6078       Can the mortgage interest formula P = L [c (1 + c) n] / [(1 + c) n - 1] where P is the fixed monthly payment required to fully amortize a loan of L dollars over a term of n months at a monthly interest rate of c be rewritten to solve for n?\n",
       "475993     Why is it that whenever anyone is slightly angry with me, my instant reaction is to think of ways to kill myself? Is this a part of my c ptsd?                                                                                                  \n",
       "Name: question_text, dtype: object"
      ]
     },
     "execution_count": 67,
     "metadata": {},
     "output_type": "execute_result"
    }
   ],
   "source": [
    "# C is a mixed bag. Often relates to C programming. Occasionally music, other math problems, or just something else altogether\n",
    "dat.question_text[dat.question_text.apply(lambda x: ' c ' in x)].sample(10)"
   ]
  },
  {
   "cell_type": "markdown",
   "metadata": {},
   "source": [
    "#### Programming Languages Conclusions\n",
    "Programming questions represent about 1% of training data, but are low-frequency insincere, so identifying them well should be beneficial.\n",
    "The letters \"R\" and \"C\" will need to be handled in preprocessing. \"C++\", \"C#\", \"F#\" should also be identified prior to stripping punctuation."
   ]
  },
  {
   "cell_type": "code",
   "execution_count": null,
   "metadata": {},
   "outputs": [],
   "source": []
  }
 ],
 "metadata": {
  "kernelspec": {
   "display_name": "Python 3",
   "language": "python",
   "name": "python3"
  },
  "language_info": {
   "codemirror_mode": {
    "name": "ipython",
    "version": 3
   },
   "file_extension": ".py",
   "mimetype": "text/x-python",
   "name": "python",
   "nbconvert_exporter": "python",
   "pygments_lexer": "ipython3",
   "version": "3.7.1"
  }
 },
 "nbformat": 4,
 "nbformat_minor": 2
}
