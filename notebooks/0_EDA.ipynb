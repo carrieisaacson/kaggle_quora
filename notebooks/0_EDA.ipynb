{
 "cells": [
  {
   "cell_type": "markdown",
   "metadata": {},
   "source": [
    "# Quora Insincere Questions Part 1: Exploratory Data Analysis.\n",
    "\n",
    "Digging into the [Quora Insincere Questions Classification](https://www.kaggle.com/c/quora-insincere-questions-classification) training data.\n",
    "\n",
    "From the competition description. Highlights mine:\n",
    "\n",
    "An insincere question is defined as a **question intended to make a statement** rather than look for helpful answers. Some characteristics that can signify that a question is insincere:\n",
    "\n",
    "Has a non-neutral tone\n",
    "Has an exaggerated tone to underscore a point about a group of people\n",
    "Is rhetorical and meant to imply a statement about a group of people\n",
    "Is disparaging or inflammatory\n",
    "Suggests a discriminatory idea against a protected class of people, or seeks confirmation of a stereotype\n",
    "Makes disparaging attacks/insults against a specific person or group of people\n",
    "Based on an outlandish premise about a group of people\n",
    "Disparages against a characteristic that is not fixable and not measurable\n",
    "Isn't grounded in reality\n",
    "Based on false information, or contains absurd assumptions\n",
    "Uses sexual content (incest, bestiality, pedophilia) for shock value, and not to seek genuine answers\n",
    "The training data includes the question that was asked, and whether it was identified as insincere (target = 1). The ground-truth labels contain some amount of noise: they are not guaranteed to be perfect.\n",
    "\n",
    "Note that the distribution of questions in the dataset should not be taken to be representative of the distribution of questions asked on Quora. This is, in part, because of the combination of sampling procedures and sanitization measures that have been applied to the final dataset."
   ]
  },
  {
   "cell_type": "code",
   "execution_count": 419,
   "metadata": {},
   "outputs": [],
   "source": [
    "import pandas as pd\n",
    "import numpy as np\n",
    "import matplotlib as plt\n",
    "import seaborn as sns\n",
    "import os\n",
    "import math\n",
    "pd.set_option('display.max_colwidth', -1)"
   ]
  },
  {
   "cell_type": "markdown",
   "metadata": {},
   "source": [
    "## Import Training Data"
   ]
  },
  {
   "cell_type": "code",
   "execution_count": 311,
   "metadata": {},
   "outputs": [],
   "source": [
    "# Select local path vs kaggle kernel\n",
    "path = os.getcwd()\n",
    "if 'data-projects/kaggle_quora/notebooks' in path:\n",
    "    data_dir = '../data/raw/'\n",
    "else:\n",
    "    data_dir = ''\n",
    "\n",
    "dat = pd.read_csv(data_dir +'train.csv')"
   ]
  },
  {
   "cell_type": "code",
   "execution_count": 313,
   "metadata": {},
   "outputs": [
    {
     "data": {
      "text/html": [
       "<div>\n",
       "<style scoped>\n",
       "    .dataframe tbody tr th:only-of-type {\n",
       "        vertical-align: middle;\n",
       "    }\n",
       "\n",
       "    .dataframe tbody tr th {\n",
       "        vertical-align: top;\n",
       "    }\n",
       "\n",
       "    .dataframe thead th {\n",
       "        text-align: right;\n",
       "    }\n",
       "</style>\n",
       "<table border=\"1\" class=\"dataframe\">\n",
       "  <thead>\n",
       "    <tr style=\"text-align: right;\">\n",
       "      <th></th>\n",
       "      <th>qid</th>\n",
       "      <th>question_text</th>\n",
       "      <th>target</th>\n",
       "    </tr>\n",
       "  </thead>\n",
       "  <tbody>\n",
       "    <tr>\n",
       "      <th>0</th>\n",
       "      <td>00002165364db923c7e6</td>\n",
       "      <td>How did Quebec nationalists see their province as a nation in the 1960s?</td>\n",
       "      <td>0</td>\n",
       "    </tr>\n",
       "    <tr>\n",
       "      <th>1</th>\n",
       "      <td>000032939017120e6e44</td>\n",
       "      <td>Do you have an adopted dog, how would you encourage people to adopt and not shop?</td>\n",
       "      <td>0</td>\n",
       "    </tr>\n",
       "    <tr>\n",
       "      <th>2</th>\n",
       "      <td>0000412ca6e4628ce2cf</td>\n",
       "      <td>Why does velocity affect time? Does velocity affect space geometry?</td>\n",
       "      <td>0</td>\n",
       "    </tr>\n",
       "    <tr>\n",
       "      <th>3</th>\n",
       "      <td>000042bf85aa498cd78e</td>\n",
       "      <td>How did Otto von Guericke used the Magdeburg hemispheres?</td>\n",
       "      <td>0</td>\n",
       "    </tr>\n",
       "    <tr>\n",
       "      <th>4</th>\n",
       "      <td>0000455dfa3e01eae3af</td>\n",
       "      <td>Can I convert montra helicon D to a mountain bike by just changing the tyres?</td>\n",
       "      <td>0</td>\n",
       "    </tr>\n",
       "  </tbody>\n",
       "</table>\n",
       "</div>"
      ],
      "text/plain": [
       "                    qid  \\\n",
       "0  00002165364db923c7e6   \n",
       "1  000032939017120e6e44   \n",
       "2  0000412ca6e4628ce2cf   \n",
       "3  000042bf85aa498cd78e   \n",
       "4  0000455dfa3e01eae3af   \n",
       "\n",
       "                                                                       question_text  \\\n",
       "0  How did Quebec nationalists see their province as a nation in the 1960s?            \n",
       "1  Do you have an adopted dog, how would you encourage people to adopt and not shop?   \n",
       "2  Why does velocity affect time? Does velocity affect space geometry?                 \n",
       "3  How did Otto von Guericke used the Magdeburg hemispheres?                           \n",
       "4  Can I convert montra helicon D to a mountain bike by just changing the tyres?       \n",
       "\n",
       "   target  \n",
       "0  0       \n",
       "1  0       \n",
       "2  0       \n",
       "3  0       \n",
       "4  0       "
      ]
     },
     "execution_count": 313,
     "metadata": {},
     "output_type": "execute_result"
    }
   ],
   "source": [
    "dat.head()"
   ]
  },
  {
   "cell_type": "code",
   "execution_count": 314,
   "metadata": {},
   "outputs": [
    {
     "data": {
      "text/plain": [
       "(1306122, 3)"
      ]
     },
     "execution_count": 314,
     "metadata": {},
     "output_type": "execute_result"
    }
   ],
   "source": [
    "dat.shape"
   ]
  },
  {
   "cell_type": "markdown",
   "metadata": {},
   "source": [
    "## Getting a feel for insincere vs sincere questions"
   ]
  },
  {
   "cell_type": "markdown",
   "metadata": {},
   "source": [
    "First lets take a look at the full text for a sample of \"sincere\" questions. They are shorter than I expected. Spelling is fairly good, grammer is a little spottier. Not an overabundance of typos."
   ]
  },
  {
   "cell_type": "code",
   "execution_count": 315,
   "metadata": {},
   "outputs": [
    {
     "name": "stdout",
     "output_type": "stream",
     "text": [
      "Why do some Quora users think that short answers are not worthy?\n",
      "What are the implementaion needs to department of aids control?\n",
      "Does every contract need to have an offer and acceptance?\n",
      "Which one has the scope in future an embedded engineer or VLSI engineer?\n",
      "As an Islamic scholar, how would you defend Islam and the Quran from the ill reputation it has garnered from terrorists who base their actions in Islam?\n",
      "What is a twin blaster cannon in Star Wars? What kind of damage can it do?\n",
      "I have around 65% in my engineering. Should I prepare for CAT 2018?\n",
      "What is the easiest way to buy Cardano?\n",
      "Can I watch free pornography?\n",
      "How would a Medieval era society interact with an early Hominid species?\n"
     ]
    }
   ],
   "source": [
    "# Sincere questions\n",
    "for q in dat['question_text'][dat['target'] == 0].sample(10):\n",
    "    print(q)"
   ]
  },
  {
   "cell_type": "markdown",
   "metadata": {},
   "source": [
    "Initial impressions: \n",
    "Religious / cultural items:\n",
    "\"Why are Muslim beliefs tolerated and accepted, while Nazis beliefs are not, even when they are the same (e.g. belief in superiority over others, hate of homosexuals, disrespect for women)?\"\n",
    "\"If a Hindu woman is not better than a Muslim woman according to Islam, why do Muslims approach Hindu women for love and marriage?\"\n",
    "\"What will you do if you spot a Muslim having sex with a female dog?\"\n",
    "\n",
    "US Political and \"liberal media\" items:\n",
    "\"Is it possible for liberal agents in the FBI to abuse their authority while investigating Trump?\"\n",
    "\"How do the news brainwash people into liberalism (appropriate answers only)?\"\n",
    "\"Why is the Democrats' media suddenly miraculously concerned with the President's ethics and scandals? Not a peep during Obama's eight years.\"\n",
    "\"Is it ok for liberals to insult Trump supporters, but not ok for Trump supporters to insult liberals?\"\n",
    "\"Why do liberals, when they don't have any arguments in political discussion, call the opponent ''racist'', ''sexist'', or ''xenophobic''?\"\n",
    "\"Can Trump supporters read?\"\n",
    "\"When will dictator Donald Trump be tried at the Hague?\"\n",
    "\"Did liberals really believe that Trump's sons illegally shot and killed a Triceratops?\"\n",
    "\n",
    "Indian Political items:\n",
    "\"Does Prakash Raj think that the people of 20 states of India are fools to vote for Modi in assembly elections?\"\n",
    "\n",
    "Sexually \"shocking\" items:\n",
    "\"What does sex with a cousin feels like?\"\n",
    "\"Does anyone of your aunt tries to have sexual relationship with you?\"\n",
    "\n",
    "Transphobic / homophobic items:\n",
    "\"Why do homosexual people exist in nature, it doesn’t make sense biologically speaking?\"\n",
    "\"Does shaving buttocks make you gay?\"\n",
    "\n",
    "Misogynistic / anti-feminist items:\n",
    "\"Do women have emotions and feelings?\"\n",
    "\"Why do feminists think they're for equal rights? When egalitarianism is the real way to achieve this?\"\n",
    "\"Why do some bitches expect virgin guys as partners?\"\n",
    "\n",
    "Racist items:\n",
    "\"Why are blacks so uncivilized?\"\n",
    "\"If we removed all blacks from Obamacare, would it be more affordable to real Americans?\"\n",
    "\n",
    "Nazi / holocaust items:\n",
    "What happens when someone had diarrhea in the holocaust?\n",
    "What is the politically correct spelling: Ass-con-Nazi or Ask-Ken-Nazi?"
   ]
  },
  {
   "cell_type": "code",
   "execution_count": 316,
   "metadata": {},
   "outputs": [
    {
     "name": "stdout",
     "output_type": "stream",
     "text": [
      "Is Indian organized crime formed mostly by Muslims and Dalits?\n",
      "What is the legality of incest in Japan?\n",
      "I had a conservative friend ask me how people can be pro-choice and be upset at children being separated from their families at the border, simultaneously. Are conservatives really serious about this?\n",
      "Why are mental health workers fake as fuck?\n",
      "Why do so many Americans, especially high profile one, choose to be willfully ignorant?\n",
      "Could Muslims breed so much that they completely overwhelm non-Muslims and kill us all with an overwhelming weight of numbers, and how can we stop them?\n",
      "Why do Chinese Malaysians believe that Malays will live on trees and in the jungle without Chinese Malaysians developing the country?\n",
      "How can we increase diversity in Israel so Jews will become a minority in a multicultural rainbow nation?\n",
      "[math]24-7=?[/math]\n",
      "Was this site always this mindless or has said situation evolved over time as more people use it?\n"
     ]
    }
   ],
   "source": [
    "# Insincere questions\n",
    "for q in dat['question_text'][dat['target'] == 1].sample(10):\n",
    "    print(q)"
   ]
  },
  {
   "cell_type": "markdown",
   "metadata": {},
   "source": [
    "Casual observations:\n",
    "* Text appears longer\n",
    "* More misspellings and gramatical issues, but not as much as I would have expected\n",
    "* More strong language, eg. \"stupid\", \"idiot\", \"hate\", \"irrational\", \"disgusting\"...\n",
    "* More likely to start with \"Why\" rather than \"How\", \"What\" or \"Where\".\n",
    "* What do some \"sincere\" questions about Trump, liberals, Muslims and sex look like? I suspect those are going to be extremely tough to disambiguate."
   ]
  },
  {
   "cell_type": "code",
   "execution_count": 317,
   "metadata": {},
   "outputs": [
    {
     "data": {
      "text/html": [
       "<div>\n",
       "<style scoped>\n",
       "    .dataframe tbody tr th:only-of-type {\n",
       "        vertical-align: middle;\n",
       "    }\n",
       "\n",
       "    .dataframe tbody tr th {\n",
       "        vertical-align: top;\n",
       "    }\n",
       "\n",
       "    .dataframe thead th {\n",
       "        text-align: right;\n",
       "    }\n",
       "</style>\n",
       "<table border=\"1\" class=\"dataframe\">\n",
       "  <thead>\n",
       "    <tr style=\"text-align: right;\">\n",
       "      <th></th>\n",
       "      <th>sincere</th>\n",
       "      <th>insincere</th>\n",
       "    </tr>\n",
       "  </thead>\n",
       "  <tbody>\n",
       "    <tr>\n",
       "      <th>0</th>\n",
       "      <td>I love Trump for his money, is it normal?</td>\n",
       "      <td>Are liberals aware that Trump won the popular vote in 30 out of 50 states?</td>\n",
       "    </tr>\n",
       "    <tr>\n",
       "      <th>1</th>\n",
       "      <td>How do Donald Trump's first 100 days compare to Obama's first 100?</td>\n",
       "      <td>Why is Trey Gowdy being disloyal to President Trump in Memogate?</td>\n",
       "    </tr>\n",
       "    <tr>\n",
       "      <th>2</th>\n",
       "      <td>Does Donald Trump have any good qualities? Are there any standards or lines he won't cross, or does he have any humanizing moments that are sincere?</td>\n",
       "      <td>How severely has Trump damaged the US thus far? How long will it take to recover once he's gone and we can get some less damaging people in the White House and Congress?</td>\n",
       "    </tr>\n",
       "    <tr>\n",
       "      <th>3</th>\n",
       "      <td>Is media giving a good news about Trump or bad news about him?</td>\n",
       "      <td>What percentage of the Trump supporters hate Obama merely on the fact that he is black?</td>\n",
       "    </tr>\n",
       "    <tr>\n",
       "      <th>4</th>\n",
       "      <td>How are people waking up from long term coma's reacting to Trump's presidency?</td>\n",
       "      <td>If Donald Trump is so extremely irresponsible, how does he not end up in trouble?</td>\n",
       "    </tr>\n",
       "    <tr>\n",
       "      <th>5</th>\n",
       "      <td>Considering how Trump's been doing so far as a president, is it really realistic he'll sit for the entire 4 years?</td>\n",
       "      <td>There are already way too many minorities in the USA. Isn't it about time Trump stopped all refugees and asylum seekers from coming into the USA? The protection was supposed to be 'temporary' anyways?</td>\n",
       "    </tr>\n",
       "    <tr>\n",
       "      <th>6</th>\n",
       "      <td>By doing the crazy man strategy and everyone else wanting to prove him wrong, is Trump bringing world peace in a bizarre end justifies the mean way?</td>\n",
       "      <td>Why, after Trump cheated to get to be president, should Hillary take his place?</td>\n",
       "    </tr>\n",
       "    <tr>\n",
       "      <th>7</th>\n",
       "      <td>Who were the sources for reporting Trump's \"shithole\" comment to the press?</td>\n",
       "      <td>Isn't it time once and for all that Robert Mueller admit there is no connection with Donald Trump and collusion after wasting so much time and taxpayer money?</td>\n",
       "    </tr>\n",
       "    <tr>\n",
       "      <th>8</th>\n",
       "      <td>Is the Trump presidency sustainable?</td>\n",
       "      <td>Why does everyone on Quora hate President Trump?</td>\n",
       "    </tr>\n",
       "    <tr>\n",
       "      <th>9</th>\n",
       "      <td>Is Trump the most dishonest president we have ever had?</td>\n",
       "      <td>When will conservative lawmakers and their cohorts finally realize that Trump is a dumpster fire president, as well as a lying, vindictive, shallow con artist with seemingly no sense of decency or mental fortitude?</td>\n",
       "    </tr>\n",
       "  </tbody>\n",
       "</table>\n",
       "</div>"
      ],
      "text/plain": [
       "                                                                                                                                                sincere  \\\n",
       "0  I love Trump for his money, is it normal?                                                                                                              \n",
       "1  How do Donald Trump's first 100 days compare to Obama's first 100?                                                                                     \n",
       "2  Does Donald Trump have any good qualities? Are there any standards or lines he won't cross, or does he have any humanizing moments that are sincere?   \n",
       "3  Is media giving a good news about Trump or bad news about him?                                                                                         \n",
       "4  How are people waking up from long term coma's reacting to Trump's presidency?                                                                         \n",
       "5  Considering how Trump's been doing so far as a president, is it really realistic he'll sit for the entire 4 years?                                     \n",
       "6  By doing the crazy man strategy and everyone else wanting to prove him wrong, is Trump bringing world peace in a bizarre end justifies the mean way?   \n",
       "7  Who were the sources for reporting Trump's \"shithole\" comment to the press?                                                                            \n",
       "8  Is the Trump presidency sustainable?                                                                                                                   \n",
       "9  Is Trump the most dishonest president we have ever had?                                                                                                \n",
       "\n",
       "                                                                                                                                                                                                                insincere  \n",
       "0  Are liberals aware that Trump won the popular vote in 30 out of 50 states?                                                                                                                                              \n",
       "1  Why is Trey Gowdy being disloyal to President Trump in Memogate?                                                                                                                                                        \n",
       "2  How severely has Trump damaged the US thus far? How long will it take to recover once he's gone and we can get some less damaging people in the White House and Congress?                                               \n",
       "3  What percentage of the Trump supporters hate Obama merely on the fact that he is black?                                                                                                                                 \n",
       "4  If Donald Trump is so extremely irresponsible, how does he not end up in trouble?                                                                                                                                       \n",
       "5  There are already way too many minorities in the USA. Isn't it about time Trump stopped all refugees and asylum seekers from coming into the USA? The protection was supposed to be 'temporary' anyways?                \n",
       "6  Why, after Trump cheated to get to be president, should Hillary take his place?                                                                                                                                         \n",
       "7  Isn't it time once and for all that Robert Mueller admit there is no connection with Donald Trump and collusion after wasting so much time and taxpayer money?                                                          \n",
       "8  Why does everyone on Quora hate President Trump?                                                                                                                                                                        \n",
       "9  When will conservative lawmakers and their cohorts finally realize that Trump is a dumpster fire president, as well as a lying, vindictive, shallow con artist with seemingly no sense of decency or mental fortitude?  "
      ]
     },
     "execution_count": 317,
     "metadata": {},
     "output_type": "execute_result"
    }
   ],
   "source": [
    "trump_questions = dat['question_text'].apply(lambda x: \"Trump\" in x)\n",
    "\n",
    "sincere_trump = dat[np.logical_and(trump_questions, dat['target'] == 0)]\n",
    "insincere_trump = dat[np.logical_and(trump_questions, dat['target'] == 1)].sample(10).reset_index()\n",
    "\n",
    "side_by_side_trump = pd.DataFrame({'sincere': sincere_trump['question_text'].sample(10).values,\n",
    "                                                           'insincere': insincere_trump['question_text'].sample(10).values})\n",
    "\n",
    "side_by_side_trump"
   ]
  },
  {
   "cell_type": "markdown",
   "metadata": {},
   "source": [
    "These were classed as \"sincere\":\n",
    "\n",
    "\"If everyone agrees that Trump is a total failure as president, why is he still president?\"\n",
    "\"Will Trump stage a terrorist attack to gain support for himself and save his administration?\"\n",
    "\"Why are Conservatives so lazy that they have put faith in Trump uplifting their lives?\"\n",
    "\n",
    "And this is \"insincere\":\n",
    "\"Why would President Trump push to move the embassy to Jerusalem? What possible benefit is there to the United States?\"\n",
    "\n",
    "So we can see this is an unevenly applied classification, presumably by human moderators who are doing their darndest. This will be difficult to classify, and I would say that Quora should probably have an iterative model-review-reclassify-remodel process to improve the quality of their tagging, particularly for high-value topics."
   ]
  },
  {
   "cell_type": "markdown",
   "metadata": {},
   "source": [
    "### Can we identify some frequently insincere topics by inspection or other research?"
   ]
  },
  {
   "cell_type": "markdown",
   "metadata": {},
   "source": [
    "#### US Political"
   ]
  },
  {
   "cell_type": "code",
   "execution_count": 318,
   "metadata": {},
   "outputs": [
    {
     "name": "stdout",
     "output_type": "stream",
     "text": [
      "6.2% insincere - overall (80810 / 1306122)\n",
      "70.5% insincere - liberal media (43 / 61)\n",
      "63.7% insincere - liberal (2756 / 4324)\n",
      "63.5% insincere - hillary (785 / 1236)\n",
      "61.1% insincere - pizzagate (11 / 18)\n",
      "43.5% insincere - trump (6145 / 14128)\n",
      "23.8% insincere - russia (1374 / 5778)\n",
      "21.4% insincere - spies (27 / 126)\n"
     ]
    }
   ],
   "source": [
    "topics = ['trump', 'hillary', 'liberal', 'russia', 'spies', 'pizzagate', 'liberal media']\n",
    "\n",
    "insincere_count = 0\n",
    "questions_count = 0\n",
    "\n",
    "def calculate_word_target_proportions(df, words, verbose=True):\n",
    "    print('{}% insincere - overall ({} / {})'.format(100*df.target.mean().round(3),\n",
    "                                                    df.target.sum(),\n",
    "                                                    len(df.target)))\n",
    "    props = []\n",
    "    insincere_count = 0\n",
    "    questions_count = 0\n",
    "    for word in words:\n",
    "        filter = df['question_text'].apply(lambda x: word in x.lower())\n",
    "        if filter.sum() > 0:\n",
    "            props.append([(100*df[filter].target.mean()).round(1), \n",
    "                                                            word,\n",
    "                                                           df[filter].target.sum(),\n",
    "                                                           len(df[filter].target)])\n",
    "            insincere_count += df[filter].target.sum()\n",
    "            questions_count += len(df[filter].target)\n",
    "\n",
    "    if verbose:\n",
    "        for prop in sorted(props, reverse=True):\n",
    "            print('{0}% insincere - {1} ({2} / {3})'.format(*prop))\n",
    "        \n",
    "    return props, insincere_count, questions_count\n",
    "        \n",
    "p, i, q = calculate_word_target_proportions(dat, topics)\n",
    "insincere_count = insincere_count + i\n",
    "questions_count = questions_count + q"
   ]
  },
  {
   "cell_type": "markdown",
   "metadata": {},
   "source": [
    "#### Race, Religion and Cultural Identities"
   ]
  },
  {
   "cell_type": "code",
   "execution_count": 319,
   "metadata": {},
   "outputs": [
    {
     "name": "stdout",
     "output_type": "stream",
     "text": [
      "6.2% insincere - overall (80810 / 1306122)\n",
      "69.5% insincere - black lives (73 / 105)\n",
      "59.0% insincere - muslim (4725 / 8009)\n",
      "37.7% insincere - black (3155 / 8376)\n"
     ]
    }
   ],
   "source": [
    "race_rel_culture = ['black', 'black lives','muslim']\n",
    "p, i, q = calculate_word_target_proportions(dat, race_rel_culture)\n",
    "insincere_count = insincere_count + i\n",
    "questions_count = questions_count + q"
   ]
  },
  {
   "cell_type": "markdown",
   "metadata": {},
   "source": [
    "#### Gender & Sexual Orientation"
   ]
  },
  {
   "cell_type": "code",
   "execution_count": 320,
   "metadata": {},
   "outputs": [
    {
     "name": "stdout",
     "output_type": "stream",
     "text": [
      "6.2% insincere - overall (80810 / 1306122)\n",
      "51.0% insincere - femin (981 / 1922)\n",
      "43.2% insincere - women (5323 / 12323)\n",
      "42.9% insincere - dyke (3 / 7)\n",
      "42.2% insincere - transgender (341 / 808)\n",
      "35.4% insincere - trans  (90 / 254)\n",
      "30.8% insincere - fag (8 / 26)\n",
      "29.6% insincere -  men (4352 / 14706)\n",
      "22.8% insincere - woman (1194 / 5246)\n",
      "21.6% insincere - queer (16 / 74)\n",
      "11.0% insincere -  man (5317 / 48404)\n"
     ]
    }
   ],
   "source": [
    "gender_sex = ['woman', ' man', 'women', 'trans ', ' men', 'dyke', 'fag', 'queer', 'femin', 'transgender']\n",
    "\n",
    "p, i, q = calculate_word_target_proportions(dat, gender_sex)\n",
    "insincere_count = insincere_count + i\n",
    "questions_count = questions_count + q"
   ]
  },
  {
   "cell_type": "markdown",
   "metadata": {},
   "source": [
    "#### Sex & Anatomy"
   ]
  },
  {
   "cell_type": "code",
   "execution_count": 321,
   "metadata": {},
   "outputs": [
    {
     "name": "stdout",
     "output_type": "stream",
     "text": [
      "6.2% insincere - overall (80810 / 1306122)\n",
      "77.1% insincere - cunt (54 / 70)\n",
      "69.7% insincere - asshole (168 / 241)\n",
      "61.3% insincere - whore (65 / 106)\n",
      "46.5% insincere - blowjob (53 / 114)\n",
      "45.9% insincere - wank (17 / 37)\n",
      "41.8% insincere - hooker (23 / 55)\n",
      "37.1% insincere - boob (109 / 294)\n",
      "33.3% insincere - buttplug (1 / 3)\n",
      "33.3% insincere - blow job (16 / 48)\n",
      "30.6% insincere - vagina (190 / 621)\n",
      "30.0% insincere - dildo (18 / 60)\n",
      "29.7% insincere - sex (4350 / 14664)\n",
      "27.3% insincere - clitoris (9 / 33)\n",
      "24.2% insincere - cock (149 / 616)\n",
      "13.6% insincere -  ass (1249 / 9165)\n",
      "13.0% insincere - butt (264 / 2026)\n",
      "10.5% insincere - pube (27 / 257)\n",
      "5.8% insincere - twat (7 / 120)\n"
     ]
    }
   ],
   "source": [
    "sex_anatomy = ['sex', 'boob', 'butt', ' ass', 'asshole', 'bollok', 'blow job', 'blowjob', 'bugger'\n",
    "              'boner', 'buttplug', 'dildo', 'clitoris', 'cock', 'cunt', 'twat', 'pube', 'vagina', \n",
    "               'wank', 'whore', 'hooker']\n",
    "\n",
    "p, i, q = calculate_word_target_proportions(dat, sex_anatomy)\n",
    "insincere_count = insincere_count + i\n",
    "questions_count = questions_count + q"
   ]
  },
  {
   "cell_type": "markdown",
   "metadata": {},
   "source": [
    "#### Words associated with bullying / trolling / insults"
   ]
  },
  {
   "cell_type": "markdown",
   "metadata": {},
   "source": [
    "Taisei Nitta, Fumito Masui, Michal Ptaszynski, Yasutomo Kimura, Rafal Rzepka, and Kenji Araki. 2013. Detecting\n",
    "cyberbullying entries on informal school websites based on category relevance maximization. In IJCNLP,\n",
    "pages 579–586.\n",
    "\n",
    "Raisi, et al (2016)"
   ]
  },
  {
   "cell_type": "code",
   "execution_count": 322,
   "metadata": {},
   "outputs": [
    {
     "name": "stdout",
     "output_type": "stream",
     "text": [
      "6.2% insincere - overall (80810 / 1306122)\n",
      "69.7% insincere - asshole (168 / 241)\n",
      "65.9% insincere - pussy (149 / 226)\n",
      "65.2% insincere - ignorant (313 / 480)\n",
      "64.9% insincere - idiot (347 / 535)\n",
      "64.3% insincere - nigger (27 / 42)\n",
      "54.5% insincere - dick (331 / 607)\n",
      "53.7% insincere - slut (95 / 177)\n",
      "51.0% insincere - stupid (1066 / 2091)\n",
      "46.2% insincere - fellatio (6 / 13)\n",
      "42.9% insincere - faggot (6 / 14)\n",
      "37.9% insincere - dumb (451 / 1189)\n",
      "37.8% insincere - hate (2670 / 7067)\n",
      "37.6% insincere - disgust (163 / 434)\n",
      "37.1% insincere - nazi (530 / 1427)\n",
      "36.1% insincere - jerk (99 / 274)\n",
      "34.5% insincere - trash (118 / 342)\n",
      "31.8% insincere - prick (14 / 44)\n",
      "31.8% insincere - pathetic (112 / 352)\n",
      "30.8% insincere - fag (8 / 26)\n",
      "30.4% insincere - communist (261 / 858)\n",
      "20.2% insincere - irrational (57 / 282)\n",
      "18.8% insincere - kill (2070 / 11009)\n",
      "18.7% insincere - worthless (32 / 171)\n",
      "18.4% insincere - annoying (115 / 624)\n",
      "9.9% insincere - lying (326 / 3302)\n",
      "9.2% insincere - gross (29 / 315)\n",
      "7.4% insincere - die (1100 / 14900)\n"
     ]
    }
   ],
   "source": [
    "trolling = ['disgust', 'hate', 'idiot', 'stupid', 'irrational', 'annoying', \n",
    "            'gross', 'slut', 'fellatio', 'die', 'kill', 'faggot', 'fag', 'pathetic', 'pussy',\n",
    "           'nigger', 'ignorant', 'lying', 'communist', 'trash', 'dumb', 'worthless',\n",
    "           'nazi', 'jerk', 'asshole', 'dick', 'prick']\n",
    "\n",
    "p, i, q = calculate_word_target_proportions(dat, trolling)\n",
    "insincere_count = insincere_count + i\n",
    "questions_count = questions_count + q"
   ]
  },
  {
   "cell_type": "markdown",
   "metadata": {},
   "source": [
    "#### Curses!"
   ]
  },
  {
   "cell_type": "code",
   "execution_count": 323,
   "metadata": {},
   "outputs": [
    {
     "name": "stdout",
     "output_type": "stream",
     "text": [
      "6.2% insincere - overall (80810 / 1306122)\n",
      "77.1% insincere - cunt (54 / 70)\n",
      "69.9% insincere - fuck (709 / 1014)\n",
      "69.7% insincere - asshole (168 / 241)\n",
      "59.1% insincere - bitch (146 / 247)\n",
      "54.8% insincere - bastard (51 / 93)\n",
      "50.0% insincere - damn (79 / 158)\n",
      "35.0% insincere - piss (78 / 223)\n",
      "29.7% insincere - poop (107 / 360)\n",
      "21.8% insincere - crap (119 / 547)\n",
      "10.9% insincere - turd (25 / 230)\n",
      "8.2% insincere - ass (3248 / 39664)\n",
      "0.0% insincere - bugger (0 / 6)\n"
     ]
    }
   ],
   "source": [
    "curse = ['asshole', 'fuck', 'cunt', 'ass', 'bastard', 'bitch', 'bugger', 'crap', 'damn', 'f u c k', 'feck'\n",
    "        'hell ', 'piss', 'poop', 'turd']\n",
    "\n",
    "p, i, q = calculate_word_target_proportions(dat, curse)\n",
    "insincere_count = insincere_count + i\n",
    "questions_count = questions_count + q"
   ]
  },
  {
   "cell_type": "markdown",
   "metadata": {},
   "source": [
    "Context is pretty important here. Danescu-Niculescu-Mizil's corpus is based on Stack Exchange comments, which are inherently non-poltical. I can see how \"You're welcome\" and \"Thanks a lot\" could be associated with false-sincerity or straight sarcasm on Quora.\n",
    "\n",
    "So I guess, in Quora's case, \"Welcome\" isn't very welcoming! :P"
   ]
  },
  {
   "cell_type": "markdown",
   "metadata": {},
   "source": [
    "#### Complaining About the Platform?"
   ]
  },
  {
   "cell_type": "code",
   "execution_count": 407,
   "metadata": {},
   "outputs": [
    {
     "name": "stdout",
     "output_type": "stream",
     "text": [
      "6.2% insincere - overall (80810 / 1306122)\n",
      "21.0% insincere - quora (3442 / 16380)\n"
     ]
    }
   ],
   "source": [
    "quora = ['quora']\n",
    "\n",
    "p, i, q = calculate_word_target_proportions(dat, quora)\n",
    "insincere_count = insincere_count + i\n",
    "questions_count = questions_count + q"
   ]
  },
  {
   "cell_type": "markdown",
   "metadata": {},
   "source": [
    "#### Conclusion"
   ]
  },
  {
   "cell_type": "code",
   "execution_count": 324,
   "metadata": {},
   "outputs": [
    {
     "name": "stdout",
     "output_type": "stream",
     "text": [
      "Targets: 58935 / Overall Targets: 80810. 72.9%\n",
      "Questions: 244356 / Overall Questions: 1306122. 18.7%\n"
     ]
    }
   ],
   "source": [
    "print('Targets: {} / Overall Targets: {}. {}%'.format(insincere_count, dat['target'].sum(),\n",
    "                                                      (100*insincere_count/dat['target'].sum()).round(1)))\n",
    "print('Questions: {} / Overall Questions: {}. {}%'.format(questions_count, len(dat['target']),\n",
    "                                                          round(100*questions_count/len(dat['target']),1)))"
   ]
  },
  {
   "cell_type": "markdown",
   "metadata": {},
   "source": [
    "There's double counting in here, I'd have to check how much, but these terms account for approximately 19% of questions but 78% of insincere questions.\n",
    "\n",
    "Answer: yes, very much so. References to Liberals and Hillary, the Holocaust and Muslims are flagged as insincere in well over 50% of occurances. References to Trump are insincere over 40% of the time, which is a lot given the base rate is only 6%. So these words along will be strong signals. But there are sincere questions about, say, Trump. An easy model would simply flag all questions about Liberals and Hillary as insincere, and possibly do quite well overall.\n",
    "\n",
    "What will be interesting is the nuance between sincere and popular questions on topics that are frequenly insincere. Consider modelling frequent topics with high target rates separately and ensembling.\n",
    "\n",
    "TODO: Cluster analysis / topic modelling for targets to see if any other themes can be identified."
   ]
  },
  {
   "cell_type": "markdown",
   "metadata": {},
   "source": [
    "### Words associated with politeness\n",
    "\n",
    "Hey, there's some research on identifying *politeness*! This is the opposite, perhaps useful as a feature for non-targets?\n",
    "http://www.cs.cornell.edu/~cristian/Politeness.html"
   ]
  },
  {
   "cell_type": "code",
   "execution_count": 325,
   "metadata": {},
   "outputs": [
    {
     "name": "stdout",
     "output_type": "stream",
     "text": [
      "6.2% insincere - overall (80810 / 1306122)\n",
      "21.9% insincere - welcome (71 / 324)\n",
      "13.6% insincere - thanks (59 / 435)\n",
      "12.0% insincere - please (255 / 2124)\n",
      "11.4% insincere - appreciate (61 / 537)\n",
      "7.5% insincere - thank you (21 / 279)\n",
      "6.7% insincere - awesome (22 / 327)\n",
      "4.1% insincere - share (174 / 4277)\n"
     ]
    }
   ],
   "source": [
    "politeness = ['thanks', 'thank you', 'appreciate', 'awesome', 'please', 'share', 'welcome']\n",
    "p, i, q = calculate_word_target_proportions(dat, politeness)"
   ]
  },
  {
   "cell_type": "markdown",
   "metadata": {},
   "source": [
    "### What about Internet Abbreviations?"
   ]
  },
  {
   "cell_type": "code",
   "execution_count": 326,
   "metadata": {},
   "outputs": [
    {
     "name": "stdout",
     "output_type": "stream",
     "text": [
      "6.2% insincere - overall (80810 / 1306122)\n",
      "100.0% insincere - smh (1 / 1)\n",
      "17.6% insincere - stfu (12 / 68)\n",
      "17.5% insincere - lol (41 / 234)\n",
      "15.6% insincere - omg (5 / 32)\n",
      "9.1% insincere - rolf (1 / 11)\n",
      "4.0% insincere - yolo (1 / 25)\n",
      "1.4% insincere - ikr (1 / 71)\n",
      "0.0% insincere - nvm (0 / 6)\n",
      "0.0% insincere - lmk (0 / 1)\n",
      "0.0% insincere - lmfao (0 / 1)\n"
     ]
    }
   ],
   "source": [
    "internet = ['lol', 'rolf', 'yolo', 'lmfao', 'stfu', 'omg', 'lmk', 'smh', 'nvm', 'ikr']\n",
    "p, i, q = calculate_word_target_proportions(dat, internet)"
   ]
  },
  {
   "cell_type": "markdown",
   "metadata": {},
   "source": [
    "Not very common and not very strong signals. Ok then!"
   ]
  },
  {
   "cell_type": "markdown",
   "metadata": {},
   "source": [
    "## Question Structure"
   ]
  },
  {
   "cell_type": "markdown",
   "metadata": {},
   "source": [
    "### Leading Why vs How / Which / What?"
   ]
  },
  {
   "cell_type": "code",
   "execution_count": 327,
   "metadata": {},
   "outputs": [],
   "source": [
    "dat['leading_word'] = dat['question_text'].apply(lambda x: x.split()[0].lower())"
   ]
  },
  {
   "cell_type": "code",
   "execution_count": 328,
   "metadata": {},
   "outputs": [
    {
     "data": {
      "text/html": [
       "<div>\n",
       "<style scoped>\n",
       "    .dataframe tbody tr th:only-of-type {\n",
       "        vertical-align: middle;\n",
       "    }\n",
       "\n",
       "    .dataframe tbody tr th {\n",
       "        vertical-align: top;\n",
       "    }\n",
       "\n",
       "    .dataframe thead th {\n",
       "        text-align: right;\n",
       "    }\n",
       "</style>\n",
       "<table border=\"1\" class=\"dataframe\">\n",
       "  <thead>\n",
       "    <tr style=\"text-align: right;\">\n",
       "      <th></th>\n",
       "      <th>percent_targets</th>\n",
       "      <th>percent_of_qs</th>\n",
       "      <th>count</th>\n",
       "    </tr>\n",
       "    <tr>\n",
       "      <th>leading_word</th>\n",
       "      <th></th>\n",
       "      <th></th>\n",
       "      <th></th>\n",
       "    </tr>\n",
       "  </thead>\n",
       "  <tbody>\n",
       "    <tr>\n",
       "      <th>why</th>\n",
       "      <td>0.225128</td>\n",
       "      <td>10.3</td>\n",
       "      <td>134621</td>\n",
       "    </tr>\n",
       "    <tr>\n",
       "      <th>are</th>\n",
       "      <td>0.146523</td>\n",
       "      <td>2.0</td>\n",
       "      <td>25839</td>\n",
       "    </tr>\n",
       "    <tr>\n",
       "      <th>do</th>\n",
       "      <td>0.133801</td>\n",
       "      <td>2.7</td>\n",
       "      <td>35523</td>\n",
       "    </tr>\n",
       "    <tr>\n",
       "      <th>if</th>\n",
       "      <td>0.104519</td>\n",
       "      <td>2.1</td>\n",
       "      <td>27641</td>\n",
       "    </tr>\n",
       "    <tr>\n",
       "      <th>is</th>\n",
       "      <td>0.068536</td>\n",
       "      <td>7.3</td>\n",
       "      <td>95191</td>\n",
       "    </tr>\n",
       "    <tr>\n",
       "      <th>does</th>\n",
       "      <td>0.061599</td>\n",
       "      <td>1.5</td>\n",
       "      <td>20179</td>\n",
       "    </tr>\n",
       "    <tr>\n",
       "      <th>i</th>\n",
       "      <td>0.059630</td>\n",
       "      <td>1.6</td>\n",
       "      <td>20560</td>\n",
       "    </tr>\n",
       "    <tr>\n",
       "      <th>who</th>\n",
       "      <td>0.034198</td>\n",
       "      <td>1.6</td>\n",
       "      <td>21054</td>\n",
       "    </tr>\n",
       "    <tr>\n",
       "      <th>can</th>\n",
       "      <td>0.029351</td>\n",
       "      <td>3.7</td>\n",
       "      <td>48482</td>\n",
       "    </tr>\n",
       "    <tr>\n",
       "      <th>how</th>\n",
       "      <td>0.026218</td>\n",
       "      <td>18.9</td>\n",
       "      <td>246468</td>\n",
       "    </tr>\n",
       "    <tr>\n",
       "      <th>where</th>\n",
       "      <td>0.018107</td>\n",
       "      <td>1.4</td>\n",
       "      <td>17949</td>\n",
       "    </tr>\n",
       "    <tr>\n",
       "      <th>what</th>\n",
       "      <td>0.012375</td>\n",
       "      <td>30.3</td>\n",
       "      <td>395226</td>\n",
       "    </tr>\n",
       "    <tr>\n",
       "      <th>which</th>\n",
       "      <td>0.009870</td>\n",
       "      <td>3.5</td>\n",
       "      <td>45187</td>\n",
       "    </tr>\n",
       "  </tbody>\n",
       "</table>\n",
       "</div>"
      ],
      "text/plain": [
       "              percent_targets  percent_of_qs   count\n",
       "leading_word                                        \n",
       "why           0.225128         10.3           134621\n",
       "are           0.146523         2.0            25839 \n",
       "do            0.133801         2.7            35523 \n",
       "if            0.104519         2.1            27641 \n",
       "is            0.068536         7.3            95191 \n",
       "does          0.061599         1.5            20179 \n",
       "i             0.059630         1.6            20560 \n",
       "who           0.034198         1.6            21054 \n",
       "can           0.029351         3.7            48482 \n",
       "how           0.026218         18.9           246468\n",
       "where         0.018107         1.4            17949 \n",
       "what          0.012375         30.3           395226\n",
       "which         0.009870         3.5            45187 "
      ]
     },
     "execution_count": 328,
     "metadata": {},
     "output_type": "execute_result"
    }
   ],
   "source": [
    "summary = dat.groupby('leading_word')['target'].agg(['mean', 'count']).sort_values(by='mean', ascending=False)\n",
    "summary['percent_of_qs'] = summary['count'].apply(lambda x: round(100*x/dat.shape[0],1))\n",
    "summary = summary.rename(columns={'mean': 'percent_targets'})\n",
    "summary.loc[summary['percent_of_qs'] > 1,['percent_targets', 'percent_of_qs', 'count']]"
   ]
  },
  {
   "cell_type": "markdown",
   "metadata": {},
   "source": [
    "Leading Whys are overwhelmingly far more likely to be insincere! \n",
    "I wonder linguistically what is going on there...\n",
    "\n",
    "Is it that \"why\" and (to a lesser extent) \"are\" lead questions confirmatory phrasing? In that you're trying to get someone to agree with an initial premise. \"Why are Xs into Z?\" or \"Are all Xs into Z\"?"
   ]
  },
  {
   "cell_type": "markdown",
   "metadata": {},
   "source": [
    "### Word & Character Count"
   ]
  },
  {
   "cell_type": "code",
   "execution_count": 412,
   "metadata": {},
   "outputs": [],
   "source": [
    "dat['char_count'] = dat['question_text'].apply(len)\n",
    "dat['word_count'] = dat['question_text'].apply(lambda x: len(x.split()))"
   ]
  },
  {
   "cell_type": "code",
   "execution_count": 424,
   "metadata": {},
   "outputs": [
    {
     "data": {
      "text/html": [
       "<div>\n",
       "<style scoped>\n",
       "    .dataframe tbody tr th:only-of-type {\n",
       "        vertical-align: middle;\n",
       "    }\n",
       "\n",
       "    .dataframe tbody tr th {\n",
       "        vertical-align: top;\n",
       "    }\n",
       "\n",
       "    .dataframe thead th {\n",
       "        text-align: right;\n",
       "    }\n",
       "</style>\n",
       "<table border=\"1\" class=\"dataframe\">\n",
       "  <thead>\n",
       "    <tr style=\"text-align: right;\">\n",
       "      <th></th>\n",
       "      <th>log_char_count</th>\n",
       "      <th>log_word_count</th>\n",
       "    </tr>\n",
       "    <tr>\n",
       "      <th>target</th>\n",
       "      <th></th>\n",
       "      <th></th>\n",
       "    </tr>\n",
       "  </thead>\n",
       "  <tbody>\n",
       "    <tr>\n",
       "      <th>0</th>\n",
       "      <td>4.113345</td>\n",
       "      <td>2.407086</td>\n",
       "    </tr>\n",
       "    <tr>\n",
       "      <th>1</th>\n",
       "      <td>4.425254</td>\n",
       "      <td>2.695269</td>\n",
       "    </tr>\n",
       "  </tbody>\n",
       "</table>\n",
       "</div>"
      ],
      "text/plain": [
       "        log_char_count  log_word_count\n",
       "target                                \n",
       "0       4.113345        2.407086      \n",
       "1       4.425254        2.695269      "
      ]
     },
     "execution_count": 424,
     "metadata": {},
     "output_type": "execute_result"
    }
   ],
   "source": [
    "dat[['char_count','word_count','target']].groupby('target').mean()"
   ]
  },
  {
   "cell_type": "code",
   "execution_count": 427,
   "metadata": {},
   "outputs": [
    {
     "data": {
      "text/plain": [
       "<matplotlib.axes._subplots.AxesSubplot at 0x1a8eb91470>"
      ]
     },
     "execution_count": 427,
     "metadata": {},
     "output_type": "execute_result"
    },
    {
     "data": {
      "image/png": "[encoded data removed]",
      "text/plain": [
       "<Figure size 432x288 with 1 Axes>"
      ]
     },
     "metadata": {
      "needs_background": "light"
     },
     "output_type": "display_data"
    }
   ],
   "source": [
    "sns.boxplot(x=\"target\", y=\"char_count\", data=dat, palette=\"Set1\")"
   ]
  },
  {
   "cell_type": "code",
   "execution_count": 426,
   "metadata": {},
   "outputs": [
    {
     "data": {
      "text/plain": [
       "<matplotlib.axes._subplots.AxesSubplot at 0x1a8eb803c8>"
      ]
     },
     "execution_count": 426,
     "metadata": {},
     "output_type": "execute_result"
    },
    {
     "data": {
      "image/png": "[encoded data removed]",
      "text/plain": [
       "<Figure size 432x288 with 1 Axes>"
      ]
     },
     "metadata": {
      "needs_background": "light"
     },
     "output_type": "display_data"
    }
   ],
   "source": [
    "sns.boxplot(x=\"target\", y=\"word_count\", data=dat, palette=\"Set1\")"
   ]
  },
  {
   "cell_type": "markdown",
   "metadata": {},
   "source": [
    "### How many questions?\n",
    "\n",
    "Are people who ask many questions at once more likely to be insincere?"
   ]
  },
  {
   "cell_type": "code",
   "execution_count": 439,
   "metadata": {},
   "outputs": [],
   "source": [
    "dat['question_mark_count'] = dat['question_text'].apply(lambda x: x.count('?'))"
   ]
  },
  {
   "cell_type": "code",
   "execution_count": 432,
   "metadata": {},
   "outputs": [
    {
     "data": {
      "text/html": [
       "<div>\n",
       "<style scoped>\n",
       "    .dataframe tbody tr th:only-of-type {\n",
       "        vertical-align: middle;\n",
       "    }\n",
       "\n",
       "    .dataframe tbody tr th {\n",
       "        vertical-align: top;\n",
       "    }\n",
       "\n",
       "    .dataframe thead th {\n",
       "        text-align: right;\n",
       "    }\n",
       "</style>\n",
       "<table border=\"1\" class=\"dataframe\">\n",
       "  <thead>\n",
       "    <tr style=\"text-align: right;\">\n",
       "      <th></th>\n",
       "      <th>question_mark_count</th>\n",
       "    </tr>\n",
       "    <tr>\n",
       "      <th>target</th>\n",
       "      <th></th>\n",
       "    </tr>\n",
       "  </thead>\n",
       "  <tbody>\n",
       "    <tr>\n",
       "      <th>0</th>\n",
       "      <td>1.052672</td>\n",
       "    </tr>\n",
       "    <tr>\n",
       "      <th>1</th>\n",
       "      <td>1.130306</td>\n",
       "    </tr>\n",
       "  </tbody>\n",
       "</table>\n",
       "</div>"
      ],
      "text/plain": [
       "        question_mark_count\n",
       "target                     \n",
       "0       1.052672           \n",
       "1       1.130306           "
      ]
     },
     "execution_count": 432,
     "metadata": {},
     "output_type": "execute_result"
    }
   ],
   "source": [
    "dat[['question_mark_count','target']].groupby('target').mean()"
   ]
  },
  {
   "cell_type": "code",
   "execution_count": 437,
   "metadata": {},
   "outputs": [
    {
     "data": {
      "text/html": [
       "<div>\n",
       "<style scoped>\n",
       "    .dataframe tbody tr th:only-of-type {\n",
       "        vertical-align: middle;\n",
       "    }\n",
       "\n",
       "    .dataframe tbody tr th {\n",
       "        vertical-align: top;\n",
       "    }\n",
       "\n",
       "    .dataframe thead th {\n",
       "        text-align: right;\n",
       "    }\n",
       "</style>\n",
       "<table border=\"1\" class=\"dataframe\">\n",
       "  <thead>\n",
       "    <tr style=\"text-align: right;\">\n",
       "      <th></th>\n",
       "      <th>question_text</th>\n",
       "      <th>target</th>\n",
       "      <th>question_mark_count</th>\n",
       "    </tr>\n",
       "  </thead>\n",
       "  <tbody>\n",
       "    <tr>\n",
       "      <th>698835</th>\n",
       "      <td>What does it mean when a teenage girl accepts each &amp; every proposal, is she immature or characterless? Can she love someone truly after changing herself?</td>\n",
       "      <td>0</td>\n",
       "      <td>2</td>\n",
       "    </tr>\n",
       "    <tr>\n",
       "      <th>547812</th>\n",
       "      <td>Are you still currently studying for your BA in political science? What do you plan to do with your degree when you are done?</td>\n",
       "      <td>0</td>\n",
       "      <td>2</td>\n",
       "    </tr>\n",
       "    <tr>\n",
       "      <th>223892</th>\n",
       "      <td>Surgeons and doctors, how do you have the time or energy to have sex with your spouse? Is this always a struggle that comes with the job?</td>\n",
       "      <td>0</td>\n",
       "      <td>2</td>\n",
       "    </tr>\n",
       "    <tr>\n",
       "      <th>989588</th>\n",
       "      <td>Was the huge UFU over Los Roques, Venezuela, a few years ago for real? Or was the footage doctored?</td>\n",
       "      <td>0</td>\n",
       "      <td>2</td>\n",
       "    </tr>\n",
       "    <tr>\n",
       "      <th>541302</th>\n",
       "      <td>Who would win? A tiger or a crocodile?</td>\n",
       "      <td>0</td>\n",
       "      <td>2</td>\n",
       "    </tr>\n",
       "    <tr>\n",
       "      <th>1135576</th>\n",
       "      <td>Why do we keep talking about white privilege in the USA when it’s Asians who, on average, make the most money? What about Asian privilege?</td>\n",
       "      <td>1</td>\n",
       "      <td>2</td>\n",
       "    </tr>\n",
       "    <tr>\n",
       "      <th>515678</th>\n",
       "      <td>Do you expect drug companies to be more ethical than tobacco companies? Why?</td>\n",
       "      <td>0</td>\n",
       "      <td>2</td>\n",
       "    </tr>\n",
       "    <tr>\n",
       "      <th>849665</th>\n",
       "      <td>Do you think everybody should get married? What if someone prefer to be single for life? Is that wrong?</td>\n",
       "      <td>0</td>\n",
       "      <td>3</td>\n",
       "    </tr>\n",
       "    <tr>\n",
       "      <th>958340</th>\n",
       "      <td>How do I control my road rage? People driving close to the edge of a lane rather than in middle is my pet peeve. How do I stop myself from being petty and drive ahead and drive on the edge so they can’t pass either?</td>\n",
       "      <td>0</td>\n",
       "      <td>2</td>\n",
       "    </tr>\n",
       "    <tr>\n",
       "      <th>1053857</th>\n",
       "      <td>What's the flavor of Lifebuoy soap called? I'd like to buy a perfume with that flavor?</td>\n",
       "      <td>0</td>\n",
       "      <td>2</td>\n",
       "    </tr>\n",
       "  </tbody>\n",
       "</table>\n",
       "</div>"
      ],
      "text/plain": [
       "                                                                                                                                                                                                                   question_text  \\\n",
       "698835   What does it mean when a teenage girl accepts each & every proposal, is she immature or characterless? Can she love someone truly after changing herself?                                                                 \n",
       "547812   Are you still currently studying for your BA in political science? What do you plan to do with your degree when you are done?                                                                                             \n",
       "223892   Surgeons and doctors, how do you have the time or energy to have sex with your spouse? Is this always a struggle that comes with the job?                                                                                 \n",
       "989588   Was the huge UFU over Los Roques, Venezuela, a few years ago for real? Or was the footage doctored?                                                                                                                       \n",
       "541302   Who would win? A tiger or a crocodile?                                                                                                                                                                                    \n",
       "1135576  Why do we keep talking about white privilege in the USA when it’s Asians who, on average, make the most money? What about Asian privilege?                                                                                \n",
       "515678   Do you expect drug companies to be more ethical than tobacco companies? Why?                                                                                                                                              \n",
       "849665   Do you think everybody should get married? What if someone prefer to be single for life? Is that wrong?                                                                                                                   \n",
       "958340   How do I control my road rage? People driving close to the edge of a lane rather than in middle is my pet peeve. How do I stop myself from being petty and drive ahead and drive on the edge so they can’t pass either?   \n",
       "1053857  What's the flavor of Lifebuoy soap called? I'd like to buy a perfume with that flavor?                                                                                                                                    \n",
       "\n",
       "         target  question_mark_count  \n",
       "698835   0       2                    \n",
       "547812   0       2                    \n",
       "223892   0       2                    \n",
       "989588   0       2                    \n",
       "541302   0       2                    \n",
       "1135576  1       2                    \n",
       "515678   0       2                    \n",
       "849665   0       3                    \n",
       "958340   0       2                    \n",
       "1053857  0       2                    "
      ]
     },
     "execution_count": 437,
     "metadata": {},
     "output_type": "execute_result"
    }
   ],
   "source": [
    "dat.loc[dat.question_mark_count > 1, ['question_text', 'target', 'question_mark_count']].sample(10)"
   ]
  },
  {
   "cell_type": "markdown",
   "metadata": {},
   "source": [
    "Very small difference, I'm not terribly excited about this one."
   ]
  },
  {
   "cell_type": "code",
   "execution_count": 602,
   "metadata": {},
   "outputs": [],
   "source": [
    "import re\n",
    "dat['math_symbols'] = dat['question_text'].apply(lambda x: len(re.findall(\"∩|∈|ℝ|∀|φ|θ|ψ|\\||√|=|//math\",x))>1)"
   ]
  },
  {
   "cell_type": "code",
   "execution_count": 607,
   "metadata": {},
   "outputs": [
    {
     "data": {
      "text/html": [
       "<div>\n",
       "<style scoped>\n",
       "    .dataframe tbody tr th:only-of-type {\n",
       "        vertical-align: middle;\n",
       "    }\n",
       "\n",
       "    .dataframe tbody tr th {\n",
       "        vertical-align: top;\n",
       "    }\n",
       "\n",
       "    .dataframe thead th {\n",
       "        text-align: right;\n",
       "    }\n",
       "</style>\n",
       "<table border=\"1\" class=\"dataframe\">\n",
       "  <thead>\n",
       "    <tr style=\"text-align: right;\">\n",
       "      <th></th>\n",
       "      <th>question_text</th>\n",
       "      <th>math_symbols</th>\n",
       "      <th>target</th>\n",
       "    </tr>\n",
       "  </thead>\n",
       "  <tbody>\n",
       "    <tr>\n",
       "      <th>1297971</th>\n",
       "      <td>Why do some people not possess the necessary IQ to write [math]\\sum \\limits_{n=0}^{\\infty}[/math] instead of [math]\\sum_{n=0}^{\\infty}[/math]?</td>\n",
       "      <td>True</td>\n",
       "      <td>1</td>\n",
       "    </tr>\n",
       "    <tr>\n",
       "      <th>528304</th>\n",
       "      <td>How would I solve [math]\\lim_ {θ \\to 0^+} \\dfrac{A(θ)}{B(θ)} [/math]from the attached photo? I’m not sure if I’m supposed to substitute A([math]θ[/math]) and B([math]θ[/math]) as the area of the triangle and the area between the chord and the arc.</td>\n",
       "      <td>True</td>\n",
       "      <td>1</td>\n",
       "    </tr>\n",
       "    <tr>\n",
       "      <th>1010134</th>\n",
       "      <td>{\"content\": {\"category\": \"----\\\"&gt;&lt;img src=x onerror=alert ('norwin_gwapo') &gt;\", \"content\": \"configured\", \"state\": \"\", \"value\": \"\"}, \"status_code\": 401}?</td>\n",
       "      <td>True</td>\n",
       "      <td>1</td>\n",
       "    </tr>\n",
       "    <tr>\n",
       "      <th>451521</th>\n",
       "      <td>Does NO Leftist understand that THIS is WHY Donald Trump is so successful!? https://www.quora.com/Why-dont-people-understand-Donald-Trump?share=fe457a6f&amp;srid=p3dW4</td>\n",
       "      <td>True</td>\n",
       "      <td>1</td>\n",
       "    </tr>\n",
       "    <tr>\n",
       "      <th>38634</th>\n",
       "      <td>As [math]x\\to\\infty\\displaystyle\\lim_{x=1}\\frac{d_{x}}{\\left(x+1\\right)^{2}}=1[/math] how can we prove [math]\\left[a_{x}&lt;b_{x}&lt;c_{x}&lt;d_{x}\\right]\\in X_{x}\\mapsto X_{x+1}[/math] and [math]\\left(d_{x}-1\\right)-\\left(a_{x}-1\\right)=3x [/math]?</td>\n",
       "      <td>True</td>\n",
       "      <td>1</td>\n",
       "    </tr>\n",
       "    <tr>\n",
       "      <th>327381</th>\n",
       "      <td>Which of the options listed below would most accurately fit [math](f ∘ g)(x),f(x) = \\frac{x}{x+4}, g(x) = \\frac{7}{x}[/math]? —A.[math](f ∘ g)(x) = \\frac{7x+28}{x}[/math] —B.[math](f ∘ g)(x) = \\frac{7x+4}{x}[/math] —C.[math](f ∘ g)(x) = \\frac{7}{7+4x}[/math] —D.[math](f ∘ g)(x) = \\frac{7x+28}{11}[/math]</td>\n",
       "      <td>True</td>\n",
       "      <td>1</td>\n",
       "    </tr>\n",
       "    <tr>\n",
       "      <th>163583</th>\n",
       "      <td>What is [math]\\overbrace{\\sum_{\\vartheta=8}^{\\infty} \\vec{\\frac{\\sum_{\\kappa=7}^{\\infty} \\overbrace{1x^0}^{\\text{Read carefully.}}-3x^{-1} \\div 1x^5+{\\sqrt[3]{2x^{-3}}}^{1x^0}+\\vec{\\vec{{3x^{-3}}^{1x^{-2}}}}}{\\sum_{\\dagger=9}^{\\infty} \\vec{\\boxed{\\boxed{3x^{-1}}+3x^1 \\times 1x^{-5}}}}} \\div \\sin(\\boxed{\\boxed{\\vec{3x^{-5}}}+\\sqrt[4]{2x^{-4}}+\\vec{2x^{-3}} \\div \\sin(\\sqrt[5]{\\int_{1x^5}^{2x^5} 2x^{-3} d\\varrho}) \\times \\vec{{\\underbrace{2x^1}_{\\text{Prove This.}}}^{3x^4} \\div \\sqrt[5]{2x^{-3}}+\\sum_{\\theta=8}^{\\infty} 1x^4}}) \\times {\\boxed{\\vec{\\sum_{\\nu=8}^{\\infty} \\sum_{4=6}^{\\infty} \\sum_{\\xi=9}^{\\infty} \\boxed{3x^1}-\\boxed{\\sqrt[3]{\\sqrt[3]{2x^{-2}}}}}}}^{1x^3}-\\cos({{\\tan(\\sum_{0=6}^{\\infty} \\tan(\\overbrace{\\frac{\\boxed{1x^1}-\\sqrt[3]{3x^{-2}}}{\\sum_{\\eta=10}^{\\infty} 1x^{-3} \\div 1x^1}}^{\\text{Molar Quantity.}}))}^{1x^3}}^{1x^{-4}})}^{\\text{Expanded.}}[/math]?</td>\n",
       "      <td>True</td>\n",
       "      <td>1</td>\n",
       "    </tr>\n",
       "    <tr>\n",
       "      <th>841016</th>\n",
       "      <td>How do I evaluate [math]\\displaystyle\\lim _{ h\\rightarrow \\infty }{ \\left( \\sum _{ i=1 }^{ i=h }{ \\frac { \\left( \\left( \\sum _{ j=1 }^{ j=i }{ \\frac { \\left( 2j+1 \\right) ! }{ \\prod _{ k=1 }^{ k=j }{ \\left( 2k-1 \\right) } } } \\right) +2 \\right) }{ { \\left( (i+1)! \\right)}^{ 2 } } } \\right) }[/math]?</td>\n",
       "      <td>True</td>\n",
       "      <td>1</td>\n",
       "    </tr>\n",
       "    <tr>\n",
       "      <th>837851</th>\n",
       "      <td>Why the US is in Syria when they can't ally with any side? (help kurds=piss of turkey, help rebels=won't win anyway, help assad=piss off Israel…)</td>\n",
       "      <td>True</td>\n",
       "      <td>1</td>\n",
       "    </tr>\n",
       "    <tr>\n",
       "      <th>315732</th>\n",
       "      <td>[math]\\frac{\\text{d}x}{\\text{d}t}=Ax , {\\text{d}x} x^{-1}=A {\\text{d}t} [/math] , [math]{\\text{now taking transpose on both sides}}[/math] [math] \\int_{C}^{x} x^{-T}{\\text{d}x^{T}}=\\int_{0}^{t}A {\\text{d}t} {\\text{ solution becomes }} {\\text x =(e^{t^{T}A^{T}})^{T} C}, {\\text {but actual answer } x = (e^{At}) C, how?} [/math]</td>\n",
       "      <td>True</td>\n",
       "      <td>1</td>\n",
       "    </tr>\n",
       "  </tbody>\n",
       "</table>\n",
       "</div>"
      ],
      "text/plain": [
       "                                                                                                                                                                                                                                                                                                                                                                                                                                                                                                                                                                                                                                                                                                                                                                                                                                                                                                          question_text  \\\n",
       "1297971  Why do some people not possess the necessary IQ to write [math]\\sum \\limits_{n=0}^{\\infty}[/math] instead of [math]\\sum_{n=0}^{\\infty}[/math]?                                                                                                                                                                                                                                                                                                                                                                                                                                                                                                                                                                                                                                                                                                                                                                   \n",
       "528304   How would I solve [math]\\lim_ {θ \\to 0^+} \\dfrac{A(θ)}{B(θ)} [/math]from the attached photo? I’m not sure if I’m supposed to substitute A([math]θ[/math]) and B([math]θ[/math]) as the area of the triangle and the area between the chord and the arc.                                                                                                                                                                                                                                                                                                                                                                                                                                                                                                                                                                                                                                                          \n",
       "1010134  {\"content\": {\"category\": \"----\\\"><img src=x onerror=alert ('norwin_gwapo') >\", \"content\": \"configured\", \"state\": \"\", \"value\": \"\"}, \"status_code\": 401}?                                                                                                                                                                                                                                                                                                                                                                                                                                                                                                                                                                                                                                                                                                                                                          \n",
       "451521   Does NO Leftist understand that THIS is WHY Donald Trump is so successful!? https://www.quora.com/Why-dont-people-understand-Donald-Trump?share=fe457a6f&srid=p3dW4                                                                                                                                                                                                                                                                                                                                                                                                                                                                                                                                                                                                                                                                                                                                              \n",
       "38634    As [math]x\\to\\infty\\displaystyle\\lim_{x=1}\\frac{d_{x}}{\\left(x+1\\right)^{2}}=1[/math] how can we prove [math]\\left[a_{x}<b_{x}<c_{x}<d_{x}\\right]\\in X_{x}\\mapsto X_{x+1}[/math] and [math]\\left(d_{x}-1\\right)-\\left(a_{x}-1\\right)=3x [/math]?                                                                                                                                                                                                                                                                                                                                                                                                                                                                                                                                                                                                                                                                 \n",
       "327381   Which of the options listed below would most accurately fit [math](f ∘ g)(x),f(x) = \\frac{x}{x+4}, g(x) = \\frac{7}{x}[/math]? —A.[math](f ∘ g)(x) = \\frac{7x+28}{x}[/math] —B.[math](f ∘ g)(x) = \\frac{7x+4}{x}[/math] —C.[math](f ∘ g)(x) = \\frac{7}{7+4x}[/math] —D.[math](f ∘ g)(x) = \\frac{7x+28}{11}[/math]                                                                                                                                                                                                                                                                                                                                                                                                                                                                                                                                                                                                 \n",
       "163583   What is [math]\\overbrace{\\sum_{\\vartheta=8}^{\\infty} \\vec{\\frac{\\sum_{\\kappa=7}^{\\infty} \\overbrace{1x^0}^{\\text{Read carefully.}}-3x^{-1} \\div 1x^5+{\\sqrt[3]{2x^{-3}}}^{1x^0}+\\vec{\\vec{{3x^{-3}}^{1x^{-2}}}}}{\\sum_{\\dagger=9}^{\\infty} \\vec{\\boxed{\\boxed{3x^{-1}}+3x^1 \\times 1x^{-5}}}}} \\div \\sin(\\boxed{\\boxed{\\vec{3x^{-5}}}+\\sqrt[4]{2x^{-4}}+\\vec{2x^{-3}} \\div \\sin(\\sqrt[5]{\\int_{1x^5}^{2x^5} 2x^{-3} d\\varrho}) \\times \\vec{{\\underbrace{2x^1}_{\\text{Prove This.}}}^{3x^4} \\div \\sqrt[5]{2x^{-3}}+\\sum_{\\theta=8}^{\\infty} 1x^4}}) \\times {\\boxed{\\vec{\\sum_{\\nu=8}^{\\infty} \\sum_{4=6}^{\\infty} \\sum_{\\xi=9}^{\\infty} \\boxed{3x^1}-\\boxed{\\sqrt[3]{\\sqrt[3]{2x^{-2}}}}}}}^{1x^3}-\\cos({{\\tan(\\sum_{0=6}^{\\infty} \\tan(\\overbrace{\\frac{\\boxed{1x^1}-\\sqrt[3]{3x^{-2}}}{\\sum_{\\eta=10}^{\\infty} 1x^{-3} \\div 1x^1}}^{\\text{Molar Quantity.}}))}^{1x^3}}^{1x^{-4}})}^{\\text{Expanded.}}[/math]?   \n",
       "841016   How do I evaluate [math]\\displaystyle\\lim _{ h\\rightarrow \\infty }{ \\left( \\sum _{ i=1 }^{ i=h }{ \\frac { \\left( \\left( \\sum _{ j=1 }^{ j=i }{ \\frac { \\left( 2j+1 \\right) ! }{ \\prod _{ k=1 }^{ k=j }{ \\left( 2k-1 \\right) } } } \\right) +2 \\right) }{ { \\left( (i+1)! \\right)}^{ 2 } } } \\right) }[/math]?                                                                                                                                                                                                                                                                                                                                                                                                                                                                                                                                                                                                     \n",
       "837851   Why the US is in Syria when they can't ally with any side? (help kurds=piss of turkey, help rebels=won't win anyway, help assad=piss off Israel…)                                                                                                                                                                                                                                                                                                                                                                                                                                                                                                                                                                                                                                                                                                                                                                \n",
       "315732   [math]\\frac{\\text{d}x}{\\text{d}t}=Ax , {\\text{d}x} x^{-1}=A {\\text{d}t} [/math] , [math]{\\text{now taking transpose on both sides}}[/math] [math] \\int_{C}^{x} x^{-T}{\\text{d}x^{T}}=\\int_{0}^{t}A {\\text{d}t} {\\text{ solution becomes }} {\\text x =(e^{t^{T}A^{T}})^{T} C}, {\\text {but actual answer } x = (e^{At}) C, how?} [/math]                                                                                                                                                                                                                                                                                                                                                                                                                                                                                                                                                                          \n",
       "\n",
       "         math_symbols  target  \n",
       "1297971  True          1       \n",
       "528304   True          1       \n",
       "1010134  True          1       \n",
       "451521   True          1       \n",
       "38634    True          1       \n",
       "327381   True          1       \n",
       "163583   True          1       \n",
       "841016   True          1       \n",
       "837851   True          1       \n",
       "315732   True          1       "
      ]
     },
     "execution_count": 607,
     "metadata": {},
     "output_type": "execute_result"
    }
   ],
   "source": [
    "dat.loc[np.logical_and(dat.math_symbols,dat.target==1), ['question_text','math_symbols', 'target']].sample(10)"
   ]
  },
  {
   "cell_type": "code",
   "execution_count": 608,
   "metadata": {},
   "outputs": [
    {
     "data": {
      "text/html": [
       "<div>\n",
       "<style scoped>\n",
       "    .dataframe tbody tr th:only-of-type {\n",
       "        vertical-align: middle;\n",
       "    }\n",
       "\n",
       "    .dataframe tbody tr th {\n",
       "        vertical-align: top;\n",
       "    }\n",
       "\n",
       "    .dataframe thead tr th {\n",
       "        text-align: left;\n",
       "    }\n",
       "\n",
       "    .dataframe thead tr:last-of-type th {\n",
       "        text-align: right;\n",
       "    }\n",
       "</style>\n",
       "<table border=\"1\" class=\"dataframe\">\n",
       "  <thead>\n",
       "    <tr>\n",
       "      <th></th>\n",
       "      <th colspan=\"3\" halign=\"left\">target</th>\n",
       "    </tr>\n",
       "    <tr>\n",
       "      <th></th>\n",
       "      <th>sum</th>\n",
       "      <th>count</th>\n",
       "      <th>mean</th>\n",
       "    </tr>\n",
       "    <tr>\n",
       "      <th>math_symbols</th>\n",
       "      <th></th>\n",
       "      <th></th>\n",
       "      <th></th>\n",
       "    </tr>\n",
       "  </thead>\n",
       "  <tbody>\n",
       "    <tr>\n",
       "      <th>False</th>\n",
       "      <td>80793</td>\n",
       "      <td>1305078</td>\n",
       "      <td>0.061907</td>\n",
       "    </tr>\n",
       "    <tr>\n",
       "      <th>True</th>\n",
       "      <td>17</td>\n",
       "      <td>1044</td>\n",
       "      <td>0.016284</td>\n",
       "    </tr>\n",
       "  </tbody>\n",
       "</table>\n",
       "</div>"
      ],
      "text/plain": [
       "             target                   \n",
       "                sum    count      mean\n",
       "math_symbols                          \n",
       "False         80793  1305078  0.061907\n",
       "True          17     1044     0.016284"
      ]
     },
     "execution_count": 608,
     "metadata": {},
     "output_type": "execute_result"
    }
   ],
   "source": [
    "dat[['math_symbols', 'target']].groupby('math_symbols').agg(['sum','count','mean'])"
   ]
  },
  {
   "cell_type": "markdown",
   "metadata": {},
   "source": [
    "This regex picks up very small number of non-math items. It seems that a few math formula questions are marked insincere. Are these math trolls? Oh, maybe they mark as insincere if the formula doesn't render?\n",
    "\n",
    "Either way, math questions tend to be sincere. But many of the preprocessing steps will strip and omit these characters. So these features should be added first."
   ]
  },
  {
   "cell_type": "code",
   "execution_count": null,
   "metadata": {},
   "outputs": [],
   "source": []
  }
 ],
 "metadata": {
  "kernelspec": {
   "display_name": "Python 3",
   "language": "python",
   "name": "python3"
  },
  "language_info": {
   "codemirror_mode": {
    "name": "ipython",
    "version": 3
   },
   "file_extension": ".py",
   "mimetype": "text/x-python",
   "name": "python",
   "nbconvert_exporter": "python",
   "pygments_lexer": "ipython3",
   "version": "3.7.1"
  }
 },
 "nbformat": 4,
 "nbformat_minor": 2
}
